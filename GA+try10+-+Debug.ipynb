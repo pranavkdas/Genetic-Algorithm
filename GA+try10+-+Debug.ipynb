{
 "cells": [
  {
   "cell_type": "markdown",
   "metadata": {
    "deletable": true,
    "editable": true
   },
   "source": [
    "#### Imports"
   ]
  },
  {
   "cell_type": "code",
   "execution_count": 106,
   "metadata": {
    "collapsed": true,
    "deletable": true,
    "editable": true
   },
   "outputs": [],
   "source": [
    "import numpy as np\n",
    "import random \n",
    "import math"
   ]
  },
  {
   "cell_type": "markdown",
   "metadata": {
    "deletable": true,
    "editable": true
   },
   "source": [
    "#### Functions"
   ]
  },
  {
   "cell_type": "markdown",
   "metadata": {
    "deletable": true,
    "editable": true
   },
   "source": [
    "- Distance Function"
   ]
  },
  {
   "cell_type": "code",
   "execution_count": 107,
   "metadata": {
    "collapsed": true,
    "deletable": true,
    "editable": true
   },
   "outputs": [],
   "source": [
    "def find_distance(x1,x2,y1,y2):\n",
    "    return math.sqrt((x1-x2)**2+(y1-y2)**2)"
   ]
  },
  {
   "cell_type": "markdown",
   "metadata": {
    "deletable": true,
    "editable": true
   },
   "source": [
    "- Cost Function"
   ]
  },
  {
   "cell_type": "code",
   "execution_count": 108,
   "metadata": {
    "collapsed": true,
    "deletable": true,
    "editable": true
   },
   "outputs": [],
   "source": [
    "def find_cost(supply_coords,demand_coords):\n",
    "    cost = np.zeros((len(supply_coords),len(demand_coords)))\n",
    "    for i in range(len(supply_coords)):\n",
    "        for j in range(len(demand_coords)):\n",
    "            cost[i,j] = find_distance(supply_coords[i][0],demand_coords[j][0],supply_coords[i][1],demand_coords[j][1])\n",
    "    return cost"
   ]
  },
  {
   "cell_type": "markdown",
   "metadata": {
    "deletable": true,
    "editable": true
   },
   "source": [
    "- Bubble Sort"
   ]
  },
  {
   "cell_type": "code",
   "execution_count": 109,
   "metadata": {
    "collapsed": true,
    "deletable": true,
    "editable": true
   },
   "outputs": [],
   "source": [
    "def bubble_sort(arrx):   \n",
    "    swapped = True\n",
    "    while swapped:\n",
    "        swapped = False\n",
    "        for i in range(len(arrx) - 1):\n",
    "            if arrx[i][0] > arrx[i + 1][0]:\n",
    "                arrx[i], arrx[i + 1] = arrx[i + 1], arrx[i]\n",
    "                swapped = True"
   ]
  },
  {
   "cell_type": "markdown",
   "metadata": {
    "deletable": true,
    "editable": true
   },
   "source": [
    "- Initialize Parent Generation"
   ]
  },
  {
   "cell_type": "code",
   "execution_count": 110,
   "metadata": {
    "collapsed": true,
    "deletable": true,
    "editable": true
   },
   "outputs": [],
   "source": [
    "def init_Parent_Gen(population,num_supply,num_demand,source,dest,cost):\n",
    "    pi = []\n",
    "    for i in range(1,num_supply*num_demand+1):\n",
    "        pi.append(i)  \n",
    "    parents= []\n",
    "    for p in range(population):\n",
    "        X = np.zeros((num_supply,num_demand))\n",
    "        s = source.copy()\n",
    "        d = dest.copy()\n",
    "        test = pi.copy()\n",
    "        while(len(test)!=0):\n",
    "            k = random.choice(test)\n",
    "            i = int(((k-1)/len(d)))\n",
    "            j = ((k-1)%len(d)) \n",
    "            X[i,j] = min(s[i],d[j])\n",
    "            s[i] = s[i] - X[i,j]\n",
    "            d[j] = d[j] - X[i,j]\n",
    "            test.remove(k)\n",
    "        parents.append([np.sum(cost*X),X])   \n",
    "    return parents"
   ]
  },
  {
   "cell_type": "markdown",
   "metadata": {
    "deletable": true,
    "editable": true
   },
   "source": [
    "- Remove copies in the generation"
   ]
  },
  {
   "cell_type": "code",
   "execution_count": 111,
   "metadata": {
    "collapsed": true,
    "deletable": true,
    "editable": true
   },
   "outputs": [],
   "source": [
    "def remove_copies(parents):\n",
    "    x = []\n",
    "    final = []\n",
    "    for i in range(len(parents)):\n",
    "        x.append(parents[i][0])\n",
    "        if i==0:\n",
    "            final.append(parents[i])\n",
    "        if i!=0 and x[i]!=x[i-1]:\n",
    "            final.append(parents[i])\n",
    "    return final"
   ]
  },
  {
   "cell_type": "markdown",
   "metadata": {
    "deletable": true,
    "editable": true
   },
   "source": [
    "- Roulette's selection"
   ]
  },
  {
   "cell_type": "code",
   "execution_count": 112,
   "metadata": {
    "collapsed": false,
    "deletable": true,
    "editable": true
   },
   "outputs": [],
   "source": [
    "def selection(parents):\n",
    "    F = 0\n",
    "    for i in range(len(parents)):\n",
    "        F = F+ parents[i][0]\n",
    "    prb = []\n",
    "    for i in range(len(parents)):\n",
    "        prb.append((F- parents[i][0])/(F*(len(parents)-1)))\n",
    "    cum_prb = []\n",
    "    for i in range(len(prb)):\n",
    "        if i==0:\n",
    "            cum_prb.append(prb[i])\n",
    "        else:\n",
    "            cum_prb.append(cum_prb[-1]+prb[i])\n",
    "    r = random.random()\n",
    "    error = 1\n",
    "    e_ind = 1\n",
    "    for i in range(len(cum_prb)):\n",
    "        if error>abs(cum_prb[i]-r):\n",
    "            error=abs(cum_prb[i]-r)\n",
    "            e_ind = i\n",
    "    return parents[e_ind][1]"
   ]
  },
  {
   "cell_type": "markdown",
   "metadata": {
    "deletable": true,
    "editable": true
   },
   "source": [
    "- Crossover"
   ]
  },
  {
   "cell_type": "code",
   "execution_count": 113,
   "metadata": {
    "collapsed": true,
    "deletable": true,
    "editable": true
   },
   "outputs": [],
   "source": [
    "def crossover(p,q,num_supply,num_demand,cost):\n",
    "    D = np.zeros((num_supply,num_demand))\n",
    "    R = np.zeros((num_supply,num_demand))\n",
    "    for i in range(num_supply):\n",
    "        for j in range(num_demand):\n",
    "            D[i,j] = int((p[i,j]+q[i,j])/2)\n",
    "            R[i,j] = (p[i,j]+q[i,j])%2\n",
    "    horP_sum = np.sum(p,axis=1)\n",
    "    verP_sum = np.sum(q,axis=0)\n",
    "    R_dash = []\n",
    "    R_costs = []\n",
    "    for i in range(100):\n",
    "        A = np.zeros((num_supply,num_demand))\n",
    "        test = []\n",
    "        s = np.sum(R/2,axis=1)\n",
    "        d = np.sum(R/2,axis=0)\n",
    "        for i in range(1,len(s)*len(d)+1):\n",
    "            test.append(i)\n",
    "        while(len(test)!=0):\n",
    "            k = random.choice(test)\n",
    "            i = int(((k-1)/len(d)))\n",
    "            j = ((k-1)%len(d))\n",
    "            A[i,j]=0\n",
    "            if s[i]!=0 and d[j]!=0:\n",
    "                    A[i,j] = 1\n",
    "                    s[i] = s[i]-1\n",
    "                    d[j]= d[j]-1\n",
    "            if np.sum(D+A,axis=1)[i]>horP_sum[i]:\n",
    "                if np.sum(D+A,axis=0)[j]>verP_sum[j]:\n",
    "                    A[i,j] = 0\n",
    "            test.remove(k)\n",
    "        if np.sum(cost*A) not in R_costs:\n",
    "            R_costs.append(np.sum(cost*A))\n",
    "            R_dash.append(A)\n",
    "        if len(R_dash)==2:\n",
    "            break\n",
    "    flag = 0\n",
    "    X1 = D+R_dash[0]\n",
    "    if len(R_dash)>1:\n",
    "        X2 = D+R_dash[1]\n",
    "        flag = 1\n",
    "        return X1,X2,flag\n",
    "    else:\n",
    "        return X1,X1,flag"
   ]
  },
  {
   "cell_type": "markdown",
   "metadata": {
    "deletable": true,
    "editable": true
   },
   "source": [
    "- Mutation"
   ]
  },
  {
   "cell_type": "code",
   "execution_count": 114,
   "metadata": {
    "collapsed": true,
    "deletable": true,
    "editable": true
   },
   "outputs": [],
   "source": [
    "def mutate(a):\n",
    "    n_rows, n_cols = random.randint(2,a.shape[0]),random.randint(2,a.shape[1])\n",
    "    row = []\n",
    "    col = []\n",
    "    while len(row)<n_rows:\n",
    "        x = random.randint(0,a.shape[0]-1)\n",
    "        if x not in row:\n",
    "            row.append(x)\n",
    "    while len(col)<n_cols:\n",
    "        x = random.randint(0,a.shape[1]-1)\n",
    "        if x not in col:\n",
    "            col.append(x)\n",
    "    row.sort()\n",
    "    col.sort()\n",
    "    A = np.zeros((n_rows,n_cols))\n",
    "    s = np.sum(a[np.ix_(row,col)],axis=1)\n",
    "    d = np.sum(a[np.ix_(row,col)],axis=0)   \n",
    "    test = []\n",
    "    for i in range(1,len(s)*len(d)+1):\n",
    "        test.append(i)    \n",
    "    while(len(test)!=0):\n",
    "        k = random.choice(test)\n",
    "        i = int(((k-1)/len(d)))\n",
    "        j = ((k-1)%len(d)) \n",
    "        A[i,j] = min(s[i],d[j])\n",
    "        s[i] = s[i] - A[i,j]\n",
    "        d[j] = d[j] - A[i,j]\n",
    "        test.remove(k) \n",
    "    row_itr = 0\n",
    "    col_itr = 0\n",
    "    for i in row:\n",
    "        for j in col:\n",
    "            a[i,j] = A[row_itr,col_itr]            \n",
    "            col_itr = col_itr+1\n",
    "        row_itr = row_itr+1\n",
    "        col_itr=0\n",
    "    return a"
   ]
  },
  {
   "cell_type": "markdown",
   "metadata": {
    "deletable": true,
    "editable": true
   },
   "source": [
    "- Give offsprings from nth generation"
   ]
  },
  {
   "cell_type": "code",
   "execution_count": 115,
   "metadata": {
    "collapsed": true,
    "deletable": true,
    "editable": true
   },
   "outputs": [],
   "source": [
    "def do_cross(copy_parents,cross_num,num_supply,num_demand,cost,source,dest):\n",
    "    offsprings = []\n",
    "    parents = add_or_remove(copy_parents,1,cost)\n",
    "    n = int(cross_num*len(copy_parents))\n",
    "    while n!=1 and n!=0:\n",
    "        a = selection(parents)\n",
    "        b = selection(parents)\n",
    "        if np.sum(cost*a)!=np.sum(cost*b):\n",
    "            off1 = np.zeros((num_supply,num_demand))\n",
    "            off2 = np.zeros((num_supply,num_demand))\n",
    "            off1,off2,flag = crossover(a,b,num_supply,num_demand,cost)\n",
    "            temp_hor = 0\n",
    "            temp_vert = 0\n",
    "            if flag==1:\n",
    "                horOff1 = np.sum(off1,axis=1)\n",
    "                vertOff1 = np.sum(off1,axis=0)\n",
    "                horOff2 = np.sum(off2,axis=1)\n",
    "                vertOff2 = np.sum(off2,axis=0)\n",
    "                for i in range(num_supply):\n",
    "                    if source[i]==horOff1[i] and source[i]==horOff2[i]:\n",
    "                        temp_hor = temp_hor+1\n",
    "                for i in range(num_demand):\n",
    "                    if dest[i]==vertOff1[i] and dest[i]==vertOff2[i]:\n",
    "                        temp_vert = temp_vert+1\n",
    "                if temp_hor==num_supply and temp_vert==num_demand:\n",
    "                    offsprings.append(off1)\n",
    "                    offsprings.append(off2)\n",
    "                n=n-2\n",
    "            else:\n",
    "                horOff1 = np.sum(off1,axis=1)\n",
    "                vertOff1 = np.sum(off1,axis=0)\n",
    "                for i in range(num_supply):\n",
    "                    if source[i]==horOff1[i]:\n",
    "                        temp_hor = temp_hor+1\n",
    "                for i in range(num_demand):\n",
    "                    if dest[i]==vertOff1[i]:\n",
    "                        temp_vert = temp_vert+1\n",
    "                if temp_hor==num_supply and temp_vert==num_demand:\n",
    "                    offsprings.append(off1)\n",
    "                n=n-1\n",
    "    return offsprings"
   ]
  },
  {
   "cell_type": "markdown",
   "metadata": {
    "deletable": true,
    "editable": true
   },
   "source": [
    "- Add/Remove cost"
   ]
  },
  {
   "cell_type": "code",
   "execution_count": 116,
   "metadata": {
    "collapsed": true,
    "deletable": true,
    "editable": true
   },
   "outputs": [],
   "source": [
    "def add_or_remove(parents,flag,cost):\n",
    "    p = []\n",
    "    if flag==1:\n",
    "        for i in range(len(parents)):\n",
    "            p.append([np.sum(cost*parents[i]),parents[i]])\n",
    "    if flag==0:\n",
    "        for i in range(len(parents)):\n",
    "            p.append(parents[i][1])\n",
    "    return p"
   ]
  },
  {
   "cell_type": "code",
   "execution_count": 117,
   "metadata": {
    "collapsed": false,
    "deletable": true,
    "editable": true
   },
   "outputs": [],
   "source": [
    "def do_mutate(copy_parents,mut_num,cost,num_supply,num_demand,source,dest):\n",
    "    n = int(mut_num*len(copy_parents))\n",
    "    parents = add_or_remove(copy_parents,1,cost)\n",
    "    offsprings = []\n",
    "    temp_hor = 0\n",
    "    temp_vert = 0\n",
    "    while n!=0:\n",
    "        a = selection(parents)\n",
    "        off1 = mutate(a)\n",
    "        horOff1 = np.sum(off1,axis=1)\n",
    "        vertOff1 = np.sum(off1,axis=0)\n",
    "        for i in range(num_supply):\n",
    "            if source[i]==horOff1[i]:\n",
    "                temp_hor = temp_hor+1\n",
    "        for i in range(num_demand):\n",
    "            if dest[i]==vertOff1[i]:\n",
    "                temp_vert = temp_vert+1\n",
    "        if temp_hor==num_supply and temp_vert==num_demand:\n",
    "            offsprings.append(off1)\n",
    "        n = n-1\n",
    "    return offsprings"
   ]
  },
  {
   "cell_type": "markdown",
   "metadata": {
    "deletable": true,
    "editable": true
   },
   "source": [
    "#### INPUT "
   ]
  },
  {
   "cell_type": "code",
   "execution_count": 127,
   "metadata": {
    "collapsed": false,
    "deletable": true,
    "editable": true
   },
   "outputs": [],
   "source": [
    "source = [8,4,12,6]\n",
    "dest = [3,5,10,7,5]\n",
    "supply_coords = [[7., 6.],[2., 7.],[1., 6.],[6., 8.]]\n",
    "demand_coords = [[3., 9.],[4., 6.],[5., 7.],[5., 3.],[2., 9.]]\n",
    "population = 10\n",
    "num_supply = len(source)\n",
    "num_demand = len(dest)\n",
    "cross_num = 0.4\n",
    "mutate_num = 0.2\n",
    "num_gen = 50\n",
    "convergence_no = 100"
   ]
  },
  {
   "cell_type": "markdown",
   "metadata": {
    "deletable": true,
    "editable": true
   },
   "source": [
    "#### Main loop"
   ]
  },
  {
   "cell_type": "code",
   "execution_count": 128,
   "metadata": {
    "collapsed": false,
    "deletable": true,
    "editable": true,
    "scrolled": true
   },
   "outputs": [
    {
     "name": "stdout",
     "output_type": "stream",
     "text": [
      "88.7466311543 88.7466311543 88.7466311543 88.7466311543\n",
      "88.7466311543 88.7466311543 88.7466311543 88.7466311543\n",
      "88.7466311543 112.52527188 88.7466311543 112.52527188\n",
      "88.7466311543 112.52527188 88.7466311543 112.52527188\n",
      "88.7466311543 92.137609721 88.7466311543 92.137609721\n",
      "88.7466311543 92.137609721 88.7466311543 92.137609721\n",
      "88.7466311543 98.249065901 88.7466311543 98.249065901\n",
      "88.7466311543 98.249065901 88.7466311543 98.249065901\n",
      "88.7466311543 98.249065901 88.7466311543 98.249065901\n",
      "88.7466311543 98.249065901 88.7466311543 98.249065901\n",
      "87.1981477196 87.1981477196 87.1981477196 87.1981477196\n",
      "87.1981477196 87.1981477196 87.1981477196 87.1981477196\n",
      "87.1981477196 87.1981477196 87.1981477196 87.1981477196\n",
      "87.1981477196 87.1981477196 87.1981477196 87.1981477196\n",
      "87.1981477196 87.1981477196 87.1981477196 87.1981477196\n",
      "87.1981477196 87.1981477196 87.1981477196 87.1981477196\n",
      "87.1981477196 87.1981477196 87.1981477196 87.1981477196\n",
      "87.1981477196 87.1981477196 87.1981477196 87.1981477196\n",
      "87.1981477196 87.1981477196 87.1981477196 87.1981477196\n",
      "87.1981477196 87.1981477196 87.1981477196 87.1981477196\n",
      "87.1981477196 85.9870451686 87.1981477196 85.9870451686\n",
      "87.1981477196 85.9870451686 87.1981477196 85.9870451686\n",
      "87.1981477196 85.9870451686 87.1981477196 85.9870451686\n",
      "87.1981477196 85.9870451686 87.1981477196 85.9870451686\n",
      "87.1981477196 106.8729645 87.1981477196 106.8729645\n",
      "87.1981477196 115.210345384 87.1981477196 115.210345384\n",
      "87.1981477196 115.210345384 87.1981477196 115.210345384\n",
      "87.1981477196 115.210345384 87.1981477196 115.210345384\n",
      "87.1981477196 96.8617452404 87.1981477196 96.8617452404\n",
      "87.1981477196 96.8617452404 87.1981477196 96.8617452404\n",
      "87.1981477196 96.8617452404 87.1981477196 96.8617452404\n",
      "87.1981477196 94.6835996555 87.1981477196 94.6835996555\n",
      "87.1981477196 116.917632185 87.1981477196 116.917632185\n",
      "87.1981477196 116.917632185 87.1981477196 116.917632185\n",
      "87.1981477196 116.917632185 87.1981477196 116.917632185\n",
      "87.1981477196 116.917632185 87.1981477196 116.917632185\n",
      "87.1981477196 116.917632185 87.1981477196 116.917632185\n",
      "87.1981477196 115.785231344 87.1981477196 115.785231344\n",
      "87.1981477196 115.785231344 87.1981477196 115.785231344\n",
      "87.1981477196 115.785231344 87.1981477196 115.785231344\n",
      "87.1981477196 115.785231344 87.1981477196 115.785231344\n",
      "87.1981477196 115.785231344 87.1981477196 115.785231344\n",
      "87.1981477196 95.835495035 87.1981477196 95.835495035\n",
      "87.1981477196 95.835495035 87.1981477196 95.835495035\n",
      "87.1981477196 95.835495035 87.1981477196 95.835495035\n",
      "87.1981477196 95.835495035 87.1981477196 95.835495035\n",
      "87.1981477196 95.835495035 87.1981477196 95.835495035\n",
      "87.1981477196 95.835495035 87.1981477196 95.835495035\n",
      "87.1981477196 95.835495035 87.1981477196 95.835495035\n",
      "87.1981477196 95.835495035 87.1981477196 95.835495035\n"
     ]
    }
   ],
   "source": [
    "cost = find_cost(supply_coords,demand_coords)\n",
    "parents = init_Parent_Gen(population,num_supply,num_demand,source,dest,cost)\n",
    "bubble_sort(parents)\n",
    "parents= remove_copies(parents)\n",
    "no = len(parents)\n",
    "p = parents.copy()\n",
    "itr = 0\n",
    "temp = []\n",
    "endFinder = 200\n",
    "endNum =0\n",
    "c=[]\n",
    "m=[]\n",
    "\n",
    "\n",
    "for i in range(num_gen):\n",
    "\n",
    "    temp = []\n",
    "    c = add_or_remove(do_cross(add_or_remove(p,0,cost),cross_num,num_supply,num_demand,cost,source,dest),1,cost)\n",
    "    m = add_or_remove(do_mutate(add_or_remove(p,0,cost),mutate_num,cost,num_supply,num_demand,source,dest),1,cost)\n",
    "    \n",
    "    temp = c+m+p\n",
    "\n",
    "    bubble_sort(temp)\n",
    "    temp = remove_copies(temp)\n",
    "    p = []\n",
    "    p = temp[:population]\n",
    "\n",
    "    itr = itr+1\n",
    "    if endFinder>p[0][0]:\n",
    "        endFinder=p[0][0]\n",
    "        if endNum==0:\n",
    "            endNum= endNum+1\n",
    "        else:\n",
    "            endNum=0\n",
    "    elif endFinder==p[0][0]:\n",
    "        endNum= endNum+1\n",
    "        if (endNum-1)==convergence_no:\n",
    "            print(\"FINAL ANSWER\" ,p[0][0],p[0][1],np.sum(p[0][1]*cost))\n",
    "            break\n",
    "\n",
    "#     print(\"Iteration\",i,\":\",p[0][0],np.sum(cost*p[0][1]), endNum)\n",
    "    "
   ]
  },
  {
   "cell_type": "markdown",
   "metadata": {
    "deletable": true,
    "editable": true
   },
   "source": [
    "83.2090729593"
   ]
  }
 ],
 "metadata": {
  "kernelspec": {
   "display_name": "Python 3",
   "language": "python",
   "name": "python3"
  },
  "language_info": {
   "codemirror_mode": {
    "name": "ipython",
    "version": 3
   },
   "file_extension": ".py",
   "mimetype": "text/x-python",
   "name": "python",
   "nbconvert_exporter": "python",
   "pygments_lexer": "ipython3",
   "version": "3.5.2"
  }
 },
 "nbformat": 4,
 "nbformat_minor": 2
}
