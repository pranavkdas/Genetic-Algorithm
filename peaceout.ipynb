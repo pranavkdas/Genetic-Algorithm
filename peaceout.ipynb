{
 "cells": [
  {
   "cell_type": "markdown",
   "metadata": {
    "deletable": true,
    "editable": true
   },
   "source": [
    "#### Imports"
   ]
  },
  {
   "cell_type": "code",
   "execution_count": 115,
   "metadata": {
    "collapsed": true,
    "deletable": true,
    "editable": true
   },
   "outputs": [],
   "source": [
    "import numpy as np\n",
    "import random \n",
    "import math"
   ]
  },
  {
   "cell_type": "markdown",
   "metadata": {
    "deletable": true,
    "editable": true
   },
   "source": [
    "#### Functions"
   ]
  },
  {
   "cell_type": "markdown",
   "metadata": {
    "deletable": true,
    "editable": true
   },
   "source": [
    "- Distance Function"
   ]
  },
  {
   "cell_type": "code",
   "execution_count": 116,
   "metadata": {
    "collapsed": true,
    "deletable": true,
    "editable": true
   },
   "outputs": [],
   "source": [
    "def find_distance(x1,x2,y1,y2):\n",
    "    return math.sqrt((x1-x2)**2+(y1-y2)**2)"
   ]
  },
  {
   "cell_type": "markdown",
   "metadata": {
    "deletable": true,
    "editable": true
   },
   "source": [
    "- Cost Function"
   ]
  },
  {
   "cell_type": "code",
   "execution_count": 117,
   "metadata": {
    "collapsed": true,
    "deletable": true,
    "editable": true
   },
   "outputs": [],
   "source": [
    "def find_cost(supply_coords,demand_coords):\n",
    "    cost = np.zeros((len(supply_coords),len(demand_coords)))\n",
    "    for i in range(len(supply_coords)):\n",
    "        for j in range(len(demand_coords)):\n",
    "            cost[i,j] = find_distance(supply_coords[i][0],demand_coords[j][0],supply_coords[i][1],demand_coords[j][1])\n",
    "    return cost"
   ]
  },
  {
   "cell_type": "markdown",
   "metadata": {
    "deletable": true,
    "editable": true
   },
   "source": [
    "- Bubble Sort"
   ]
  },
  {
   "cell_type": "code",
   "execution_count": 118,
   "metadata": {
    "collapsed": true,
    "deletable": true,
    "editable": true
   },
   "outputs": [],
   "source": [
    "def bubble_sort(arrx,cost):\n",
    "    parents = []\n",
    "    for i in range(len(arrx)):\n",
    "        parents.append(arrx[i][1])\n",
    "    swapped = True\n",
    "    while swapped:\n",
    "        swapped = False\n",
    "        for i in range(len(arrx) - 1):\n",
    "            if arrx[i][0] > arrx[i + 1][0]:\n",
    "                arrx[i], arrx[i + 1] = arrx[i + 1], arrx[i]\n",
    "                parents[i],parents[i+1] = parents[i+1],parents[i]\n",
    "                swapped = True\n",
    "    final = []\n",
    "    for i in range(len(parents)):\n",
    "        final.append([np.sum(cost*parents[i]),parents[i]])\n",
    "    return final"
   ]
  },
  {
   "cell_type": "markdown",
   "metadata": {
    "deletable": true,
    "editable": true
   },
   "source": [
    "- Initialize Parent Generation"
   ]
  },
  {
   "cell_type": "code",
   "execution_count": 119,
   "metadata": {
    "collapsed": true,
    "deletable": true,
    "editable": true
   },
   "outputs": [],
   "source": [
    "def init_Parent_Gen(population,num_supply,num_demand,source,dest,cost):\n",
    "    pi = []\n",
    "    for i in range(1,num_supply*num_demand+1):\n",
    "        pi.append(i)  \n",
    "    parents= []\n",
    "    for p in range(population):\n",
    "        X = np.zeros((num_supply,num_demand))\n",
    "        s = source.copy()\n",
    "        d = dest.copy()\n",
    "        test = pi.copy()\n",
    "        while(len(test)!=0):\n",
    "            k = random.choice(test)\n",
    "            i = int(((k-1)/len(d)))\n",
    "            j = ((k-1)%len(d)) \n",
    "            X[i,j] = min(s[i],d[j])\n",
    "            s[i] = s[i] - X[i,j]\n",
    "            d[j] = d[j] - X[i,j]\n",
    "            test.remove(k)\n",
    "        parents.append([np.sum(cost*X),X])   \n",
    "    return parents"
   ]
  },
  {
   "cell_type": "markdown",
   "metadata": {
    "deletable": true,
    "editable": true
   },
   "source": [
    "- Remove copies in the generation"
   ]
  },
  {
   "cell_type": "code",
   "execution_count": 120,
   "metadata": {
    "collapsed": true,
    "deletable": true,
    "editable": true
   },
   "outputs": [],
   "source": [
    "def remove_copies(parents):\n",
    "    x = []\n",
    "    final = []\n",
    "    for i in range(len(parents)):\n",
    "        x.append(parents[i][0])\n",
    "        if i==0:\n",
    "            final.append(parents[i])\n",
    "        if i!=0 and x[i]!=x[i-1]:\n",
    "            final.append(parents[i])\n",
    "    return final"
   ]
  },
  {
   "cell_type": "markdown",
   "metadata": {
    "deletable": true,
    "editable": true
   },
   "source": [
    "- Roulette's selection"
   ]
  },
  {
   "cell_type": "code",
   "execution_count": 121,
   "metadata": {
    "collapsed": false,
    "deletable": true,
    "editable": true
   },
   "outputs": [],
   "source": [
    "def selection(parents):\n",
    "    F = 0\n",
    "    for i in range(len(parents)):\n",
    "        F = F+ parents[i][0]\n",
    "    prb = []\n",
    "    for i in range(len(parents)):\n",
    "        prb.append((F- parents[i][0])/(F*(len(parents)-1)))\n",
    "    cum_prb = []\n",
    "    for i in range(len(prb)):\n",
    "        if i==0:\n",
    "            cum_prb.append(prb[i])\n",
    "        else:\n",
    "            cum_prb.append(cum_prb[-1]+prb[i])\n",
    "    r = random.random()\n",
    "    error = 1\n",
    "    e_ind = 1\n",
    "    for i in range(len(cum_prb)):\n",
    "        if error>abs(cum_prb[i]-r):\n",
    "            error=abs(cum_prb[i]-r)\n",
    "            e_ind = i\n",
    "    return parents[e_ind][1]"
   ]
  },
  {
   "cell_type": "markdown",
   "metadata": {
    "deletable": true,
    "editable": true
   },
   "source": [
    "- Crossover"
   ]
  },
  {
   "cell_type": "code",
   "execution_count": 122,
   "metadata": {
    "collapsed": true,
    "deletable": true,
    "editable": true
   },
   "outputs": [],
   "source": [
    "def crossover(p,q,num_supply,num_demand,cost):\n",
    "    D = np.zeros((num_supply,num_demand))\n",
    "    R = np.zeros((num_supply,num_demand))\n",
    "    for i in range(num_supply):\n",
    "        for j in range(num_demand):\n",
    "            D[i,j] = int((p[i,j]+q[i,j])/2)\n",
    "            R[i,j] = (p[i,j]+q[i,j])%2\n",
    "    horP_sum = np.sum(p,axis=1)\n",
    "    verP_sum = np.sum(q,axis=0)\n",
    "    R_dash = []\n",
    "    R_costs = []\n",
    "    for i in range(100):\n",
    "        A = np.zeros((num_supply,num_demand))\n",
    "        test = []\n",
    "        s = np.sum(R/2,axis=1)\n",
    "        d = np.sum(R/2,axis=0)\n",
    "        for i in range(1,len(s)*len(d)+1):\n",
    "            test.append(i)\n",
    "        while(len(test)!=0):\n",
    "            k = random.choice(test)\n",
    "            i = int(((k-1)/len(d)))\n",
    "            j = ((k-1)%len(d))\n",
    "            A[i,j]=0\n",
    "            if s[i]!=0 and d[j]!=0:\n",
    "                    A[i,j] = 1\n",
    "                    s[i] = s[i]-1\n",
    "                    d[j]= d[j]-1\n",
    "            if np.sum(D+A,axis=1)[i]>horP_sum[i]:\n",
    "                if np.sum(D+A,axis=0)[j]>verP_sum[j]:\n",
    "                    A[i,j] = 0\n",
    "            test.remove(k)\n",
    "        if np.sum(cost*A) not in R_costs:\n",
    "            R_costs.append(np.sum(cost*A))\n",
    "            R_dash.append(A)\n",
    "        if len(R_dash)==2:\n",
    "            break\n",
    "    flag = 0\n",
    "    X1 = D+R_dash[0]\n",
    "    if len(R_dash)>1:\n",
    "        X2 = D+R_dash[1]\n",
    "        flag = 1\n",
    "        return X1,X2,flag\n",
    "    else:\n",
    "        return X1,X1,flag"
   ]
  },
  {
   "cell_type": "markdown",
   "metadata": {
    "deletable": true,
    "editable": true
   },
   "source": [
    "- Mutation"
   ]
  },
  {
   "cell_type": "code",
   "execution_count": 123,
   "metadata": {
    "collapsed": true,
    "deletable": true,
    "editable": true
   },
   "outputs": [],
   "source": [
    "def mutate(a):\n",
    "    n_rows, n_cols = random.randint(2,a.shape[0]),random.randint(2,a.shape[1])\n",
    "    row = []\n",
    "    col = []\n",
    "    while len(row)<n_rows:\n",
    "        x = random.randint(0,a.shape[0]-1)\n",
    "        if x not in row:\n",
    "            row.append(x)\n",
    "    while len(col)<n_cols:\n",
    "        x = random.randint(0,a.shape[1]-1)\n",
    "        if x not in col:\n",
    "            col.append(x)\n",
    "    row.sort()\n",
    "    col.sort()\n",
    "    A = np.zeros((n_rows,n_cols))\n",
    "    s = np.sum(a[np.ix_(row,col)],axis=1)\n",
    "    d = np.sum(a[np.ix_(row,col)],axis=0)   \n",
    "    test = []\n",
    "    for i in range(1,len(s)*len(d)+1):\n",
    "        test.append(i)    \n",
    "    while(len(test)!=0):\n",
    "        k = random.choice(test)\n",
    "        i = int(((k-1)/len(d)))\n",
    "        j = ((k-1)%len(d)) \n",
    "        A[i,j] = min(s[i],d[j])\n",
    "        s[i] = s[i] - A[i,j]\n",
    "        d[j] = d[j] - A[i,j]\n",
    "        test.remove(k) \n",
    "    row_itr = 0\n",
    "    col_itr = 0\n",
    "    for i in row:\n",
    "        for j in col:\n",
    "            a[i,j] = A[row_itr,col_itr]            \n",
    "            col_itr = col_itr+1\n",
    "        row_itr = row_itr+1\n",
    "        col_itr=0\n",
    "    return a"
   ]
  },
  {
   "cell_type": "markdown",
   "metadata": {
    "deletable": true,
    "editable": true
   },
   "source": [
    "- Give offsprings from nth generation"
   ]
  },
  {
   "cell_type": "code",
   "execution_count": 124,
   "metadata": {
    "collapsed": true,
    "deletable": true,
    "editable": true
   },
   "outputs": [],
   "source": [
    "def do_cross(copy_parents,cross_num,num_supply,num_demand,cost,source,dest):\n",
    "    offsprings = []\n",
    "    parents = add_or_remove(copy_parents,1,cost)\n",
    "    n = int(cross_num*len(copy_parents))\n",
    "    while n!=1 and n!=0:\n",
    "        a = selection(parents)\n",
    "        b = selection(parents)\n",
    "        if np.sum(cost*a)!=np.sum(cost*b):\n",
    "            off1 = np.zeros((num_supply,num_demand))\n",
    "            off2 = np.zeros((num_supply,num_demand))\n",
    "            off1,off2,flag = crossover(a,b,num_supply,num_demand,cost)\n",
    "            temp_hor = 0\n",
    "            temp_vert = 0\n",
    "            if flag==1:\n",
    "                horOff1 = np.sum(off1,axis=1)\n",
    "                vertOff1 = np.sum(off1,axis=0)\n",
    "                horOff2 = np.sum(off2,axis=1)\n",
    "                vertOff2 = np.sum(off2,axis=0)\n",
    "                for i in range(num_supply):\n",
    "                    if source[i]==horOff1[i] and source[i]==horOff2[i]:\n",
    "                        temp_hor = temp_hor+1\n",
    "                for i in range(num_demand):\n",
    "                    if dest[i]==vertOff1[i] and dest[i]==vertOff2[i]:\n",
    "                        temp_vert = temp_vert+1\n",
    "                if temp_hor==num_supply and temp_vert==num_demand:\n",
    "                    offsprings.append(off1)\n",
    "                    offsprings.append(off2)\n",
    "                n=n-2\n",
    "            else:\n",
    "                horOff1 = np.sum(off1,axis=1)\n",
    "                vertOff1 = np.sum(off1,axis=0)\n",
    "                for i in range(num_supply):\n",
    "                    if source[i]==horOff1[i]:\n",
    "                        temp_hor = temp_hor+1\n",
    "                for i in range(num_demand):\n",
    "                    if dest[i]==vertOff1[i]:\n",
    "                        temp_vert = temp_vert+1\n",
    "                if temp_hor==num_supply and temp_vert==num_demand:\n",
    "                    offsprings.append(off1)\n",
    "                n=n-1\n",
    "    return offsprings"
   ]
  },
  {
   "cell_type": "markdown",
   "metadata": {
    "deletable": true,
    "editable": true
   },
   "source": [
    "- Add/Remove cost"
   ]
  },
  {
   "cell_type": "code",
   "execution_count": 125,
   "metadata": {
    "collapsed": true,
    "deletable": true,
    "editable": true
   },
   "outputs": [],
   "source": [
    "def add_or_remove(parents,flag,cost):\n",
    "    p = []\n",
    "    if flag==1:\n",
    "        for i in range(len(parents)):\n",
    "            p.append([np.sum(cost*parents[i]),parents[i]])\n",
    "    if flag==0:\n",
    "        for i in range(len(parents)):\n",
    "            p.append(parents[i][1])\n",
    "    return p"
   ]
  },
  {
   "cell_type": "code",
   "execution_count": 126,
   "metadata": {
    "collapsed": false,
    "deletable": true,
    "editable": true
   },
   "outputs": [],
   "source": [
    "def do_mutate(copy_parents,mut_num,cost,num_supply,num_demand,source,dest):\n",
    "    n = int(mut_num*len(copy_parents))\n",
    "    parents = add_or_remove(copy_parents,1,cost)\n",
    "    offsprings = []\n",
    "    temp_hor = 0\n",
    "    temp_vert = 0\n",
    "    while n!=0:\n",
    "        a = selection(parents)\n",
    "        off1 = mutate(a)\n",
    "        horOff1 = np.sum(off1,axis=1)\n",
    "        vertOff1 = np.sum(off1,axis=0)\n",
    "        for i in range(num_supply):\n",
    "            if source[i]==horOff1[i]:\n",
    "                temp_hor = temp_hor+1\n",
    "        for i in range(num_demand):\n",
    "            if dest[i]==vertOff1[i]:\n",
    "                temp_vert = temp_vert+1\n",
    "        if temp_hor==num_supply and temp_vert==num_demand:\n",
    "            offsprings.append(off1)\n",
    "        n = n-1\n",
    "    return offsprings"
   ]
  },
  {
   "cell_type": "markdown",
   "metadata": {
    "deletable": true,
    "editable": true
   },
   "source": [
    "#### INPUT "
   ]
  },
  {
   "cell_type": "code",
   "execution_count": 127,
   "metadata": {
    "collapsed": false,
    "deletable": true,
    "editable": true
   },
   "outputs": [],
   "source": [
    "source = [8,4,12,6]\n",
    "dest = [3,5,10,7,5]\n",
    "supply_coords = [[7., 6.],[2., 7.],[1., 6.],[6., 8.]]\n",
    "demand_coords = [[3., 9.],[4., 6.],[5., 7.],[5., 3.],[2., 9.]]\n",
    "population = 100\n",
    "num_supply = len(source)\n",
    "num_demand = len(dest)\n",
    "cross_num = 0.4\n",
    "mutate_num = 0.2\n",
    "num_gen = 1000\n",
    "convergence_no = 25"
   ]
  },
  {
   "cell_type": "markdown",
   "metadata": {
    "deletable": true,
    "editable": true
   },
   "source": [
    "#### Main loop"
   ]
  },
  {
   "cell_type": "code",
   "execution_count": 128,
   "metadata": {
    "collapsed": false,
    "deletable": true,
    "editable": true,
    "scrolled": true
   },
   "outputs": [
    {
     "name": "stdout",
     "output_type": "stream",
     "text": [
      "Iteration 0 : 86.9018391941 Minimum cost:  86.9018391941\n",
      "Iteration 1 : 86.9018391941 Minimum cost:  86.9018391941\n",
      "Iteration 2 : 86.9018391941 Minimum cost:  86.9018391941\n",
      "Iteration 3 : 86.9018391941 Minimum cost:  86.9018391941\n",
      "Iteration 4 : 86.9018391941 Minimum cost:  86.9018391941\n",
      "Iteration 5 : 86.9018391941 Minimum cost:  86.9018391941\n",
      "Iteration 6 : 86.9018391941 Minimum cost:  86.9018391941\n",
      "Iteration 7 : 99.3073764958 Minimum cost:  86.9018391941\n",
      "Iteration 8 : 87.8457758314 Minimum cost:  86.9018391941\n",
      "Iteration 9 : 85.4053533574 Minimum cost:  85.4053533574\n",
      "Iteration 10 : 96.6836869975 Minimum cost:  85.4053533574\n",
      "Iteration 11 : 85.7948593969 Minimum cost:  85.4053533574\n",
      "Iteration 12 : 98.2006258028 Minimum cost:  85.4053533574\n",
      "Iteration 13 : 86.5591490605 Minimum cost:  85.4053533574\n",
      "Iteration 14 : 84.5144187961 Minimum cost:  84.5144187961\n",
      "Iteration 15 : 85.8839020941 Minimum cost:  84.5144187961\n",
      "Iteration 16 : 84.4201755102 Minimum cost:  84.4201755102\n",
      "Iteration 17 : 84.4201755102 Minimum cost:  84.4201755102\n",
      "Iteration 18 : 84.4201755102 Minimum cost:  84.4201755102\n",
      "Iteration 19 : 86.9519364683 Minimum cost:  84.4201755102\n",
      "Iteration 20 : 84.3232787962 Minimum cost:  84.3232787962\n",
      "Iteration 21 : 84.3232787962 Minimum cost:  84.3232787962\n",
      "Iteration 22 : 95.8512343017 Minimum cost:  84.3232787962\n",
      "Iteration 23 : 84.4201755102 Minimum cost:  84.3232787962\n",
      "Iteration 24 : 103.04129316 Minimum cost:  84.3232787962\n",
      "Iteration 25 : 84.8940453678 Minimum cost:  84.3232787962\n",
      "Iteration 26 : 84.5535908307 Minimum cost:  84.3232787962\n",
      "Iteration 27 : 84.5144187961 Minimum cost:  84.3232787962\n",
      "Iteration 28 : 84.5144187961 Minimum cost:  84.3232787962\n",
      "Iteration 29 : 84.1160731584 Minimum cost:  84.1160731584\n",
      "Iteration 30 : 83.6234842349 Minimum cost:  83.6234842349\n",
      "Iteration 31 : 83.4162785971 Minimum cost:  83.4162785971\n",
      "Iteration 32 : 83.4162785971 Minimum cost:  83.4162785971\n",
      "Iteration 33 : 83.4162785971 Minimum cost:  83.4162785971\n",
      "Iteration 34 : 130.803191366 Minimum cost:  83.4162785971\n",
      "Iteration 35 : 98.086186726 Minimum cost:  83.4162785971\n",
      "Iteration 36 : 84.0218298725 Minimum cost:  83.4162785971\n",
      "Iteration 37 : 84.0218298725 Minimum cost:  83.4162785971\n",
      "Iteration 38 : 84.0218298725 Minimum cost:  83.4162785971\n",
      "Iteration 39 : 83.4162785971 Minimum cost:  83.4162785971\n",
      "Iteration 40 : 83.4162785971 Minimum cost:  83.4162785971\n",
      "Iteration 41 : 83.4162785971 Minimum cost:  83.4162785971\n",
      "Iteration 42 : 100.90961582 Minimum cost:  83.4162785971\n",
      "Iteration 43 : 83.8146242347 Minimum cost:  83.4162785971\n",
      "Iteration 44 : 83.8146242347 Minimum cost:  83.4162785971\n",
      "Iteration 45 : 83.8146242347 Minimum cost:  83.4162785971\n",
      "Iteration 46 : 83.8146242347 Minimum cost:  83.4162785971\n",
      "Iteration 47 : 83.8146242347 Minimum cost:  83.4162785971\n",
      "Iteration 48 : 83.8146242347 Minimum cost:  83.4162785971\n",
      "Iteration 49 : 83.8146242347 Minimum cost:  83.4162785971\n",
      "Iteration 50 : 83.8146242347 Minimum cost:  83.4162785971\n",
      "Iteration 51 : 83.8146242347 Minimum cost:  83.4162785971\n",
      "Iteration 52 : 83.8146242347 Minimum cost:  83.4162785971\n",
      "Iteration 53 : 83.8146242347 Minimum cost:  83.4162785971\n",
      "Iteration 54 : 83.8146242347 Minimum cost:  83.4162785971\n",
      "Iteration 55 : 83.8146242347 Minimum cost:  83.4162785971\n",
      "Iteration 56 : 83.8146242347 Minimum cost:  83.4162785971\n",
      "Iteration 57 : 83.6074185969 Minimum cost:  83.4162785971\n",
      "Iteration 58 : 83.6074185969 Minimum cost:  83.4162785971\n",
      "Iteration 59 : 83.6074185969 Minimum cost:  83.4162785971\n",
      "Iteration 60 : 83.6074185969 Minimum cost:  83.4162785971\n",
      "Iteration 61 : 83.6074185969 Minimum cost:  83.4162785971\n",
      "Iteration 62 : 83.6074185969 Minimum cost:  83.4162785971\n",
      "Iteration 63 : 83.6074185969 Minimum cost:  83.4162785971\n",
      "Iteration 64 : 83.6074185969 Minimum cost:  83.4162785971\n",
      "Iteration 65 : 83.6074185969 Minimum cost:  83.4162785971\n",
      "Iteration 66 : 83.6074185969 Minimum cost:  83.4162785971\n",
      "Iteration 67 : 83.6074185969 Minimum cost:  83.4162785971\n",
      "Iteration 68 : 83.6074185969 Minimum cost:  83.4162785971\n",
      "Iteration 69 : 95.1852134951 Minimum cost:  83.4162785971\n",
      "Iteration 70 : 83.7408339174 Minimum cost:  83.4162785971\n",
      "Iteration 71 : 83.7408339174 Minimum cost:  83.4162785971\n",
      "Iteration 72 : 83.7408339174 Minimum cost:  83.4162785971\n",
      "Iteration 73 : 83.7408339174 Minimum cost:  83.4162785971\n",
      "Iteration 74 : 83.7408339174 Minimum cost:  83.4162785971\n",
      "Iteration 75 : 83.7408339174 Minimum cost:  83.4162785971\n",
      "Iteration 76 : 83.7408339174 Minimum cost:  83.4162785971\n",
      "Iteration 77 : 83.7408339174 Minimum cost:  83.4162785971\n",
      "Iteration 78 : 83.7016618828 Minimum cost:  83.4162785971\n",
      "Iteration 79 : 89.2817236474 Minimum cost:  83.4162785971\n",
      "Iteration 80 : 83.7408339174 Minimum cost:  83.4162785971\n",
      "Iteration 81 : 83.7408339174 Minimum cost:  83.4162785971\n",
      "Iteration 82 : 83.7408339174 Minimum cost:  83.4162785971\n",
      "Iteration 83 : 83.6234842349 Minimum cost:  83.4162785971\n",
      "Iteration 84 : 92.6775692101 Minimum cost:  83.4162785971\n",
      "Iteration 85 : 91.3346944535 Minimum cost:  83.4162785971\n",
      "Iteration 86 : 83.7016618828 Minimum cost:  83.4162785971\n",
      "Iteration 87 : 83.7016618828 Minimum cost:  83.4162785971\n",
      "Iteration 88 : 83.7016618828 Minimum cost:  83.4162785971\n",
      "Iteration 89 : 83.2090729593 Minimum cost:  83.2090729593\n",
      "Iteration 90 : 83.2090729593 Minimum cost:  83.2090729593\n",
      "Iteration 91 : 97.9427327045 Minimum cost:  83.2090729593\n",
      "Iteration 92 : 83.7016618828 Minimum cost:  83.2090729593\n",
      "Iteration 93 : 83.7016618828 Minimum cost:  83.2090729593\n",
      "Iteration 94 : 83.7016618828 Minimum cost:  83.2090729593\n",
      "Iteration 95 : 83.7016618828 Minimum cost:  83.2090729593\n",
      "Iteration 96 : 83.7016618828 Minimum cost:  83.2090729593\n",
      "Iteration 97 : 84.68683973 Minimum cost:  83.2090729593\n",
      "Iteration 98 : 83.7408339174 Minimum cost:  83.2090729593\n",
      "Iteration 99 : 83.7408339174 Minimum cost:  83.2090729593\n",
      "Iteration 100 : 83.7408339174 Minimum cost:  83.2090729593\n",
      "Iteration 101 : 83.7016618828 Minimum cost:  83.2090729593\n",
      "Iteration 102 : 83.7016618828 Minimum cost:  83.2090729593\n",
      "Iteration 103 : 83.7016618828 Minimum cost:  83.2090729593\n",
      "Iteration 104 : 83.7016618828 Minimum cost:  83.2090729593\n",
      "Iteration 105 : 83.7016618828 Minimum cost:  83.2090729593\n",
      "Iteration 106 : 83.2090729593 Minimum cost:  83.2090729593\n",
      "Iteration 107 : 83.2090729593 Minimum cost:  83.2090729593\n",
      "Iteration 108 : 83.2090729593 Minimum cost:  83.2090729593\n",
      "Iteration 109 : 83.2090729593 Minimum cost:  83.2090729593\n",
      "Iteration 110 : 83.2090729593 Minimum cost:  83.2090729593\n",
      "Iteration 111 : 83.2090729593 Minimum cost:  83.2090729593\n",
      "Iteration 112 : 99.4615647961 Minimum cost:  83.2090729593\n",
      "Iteration 113 : 83.6074185969 Minimum cost:  83.2090729593\n",
      "Iteration 114 : 83.6074185969 Minimum cost:  83.2090729593\n",
      "Iteration 115 : 83.4162785971 Minimum cost:  83.2090729593\n",
      "Iteration 116 : 83.4162785971 Minimum cost:  83.2090729593\n",
      "Iteration 117 : 83.4162785971 Minimum cost:  83.2090729593\n",
      "Iteration 118 : 83.4162785971 Minimum cost:  83.2090729593\n",
      "Iteration 119 : 83.4162785971 Minimum cost:  83.2090729593\n",
      "Iteration 120 : 83.4162785971 Minimum cost:  83.2090729593\n",
      "Iteration 121 : 83.6074185969 Minimum cost:  83.2090729593\n",
      "Iteration 122 : 91.1555691894 Minimum cost:  83.2090729593\n",
      "Iteration 123 : 83.7016618828 Minimum cost:  83.2090729593\n",
      "Iteration 124 : 83.7016618828 Minimum cost:  83.2090729593\n",
      "Iteration 125 : 83.7016618828 Minimum cost:  83.2090729593\n",
      "Iteration 126 : 83.7016618828 Minimum cost:  83.2090729593\n",
      "Iteration 127 : 83.7016618828 Minimum cost:  83.2090729593\n",
      "Iteration 128 : 83.7016618828 Minimum cost:  83.2090729593\n",
      "Iteration 129 : 83.7016618828 Minimum cost:  83.2090729593\n",
      "Iteration 130 : 85.5574877438 Minimum cost:  83.2090729593\n",
      "Iteration 131 : 83.7408339174 Minimum cost:  83.2090729593\n",
      "Iteration 132 : 83.7016618828 Minimum cost:  83.2090729593\n",
      "Iteration 133 : 83.7016618828 Minimum cost:  83.2090729593\n",
      "Iteration 134 : 83.7016618828 Minimum cost:  83.2090729593\n",
      "Iteration 135 : 83.4162785971 Minimum cost:  83.2090729593\n",
      "Iteration 136 : 83.4162785971 Minimum cost:  83.2090729593\n",
      "Iteration 137 : 83.4162785971 Minimum cost:  83.2090729593\n",
      "Iteration 138 : 83.4162785971 Minimum cost:  83.2090729593\n",
      "Iteration 139 : 83.4162785971 Minimum cost:  83.2090729593\n",
      "Iteration 140 : 83.4162785971 Minimum cost:  83.2090729593\n",
      "Iteration 141 : 83.4162785971 Minimum cost:  83.2090729593\n",
      "Iteration 142 : 83.4162785971 Minimum cost:  83.2090729593\n",
      "Iteration 143 : 87.3521824297 Minimum cost:  83.2090729593\n",
      "Iteration 144 : 83.6074185969 Minimum cost:  83.2090729593\n",
      "Iteration 145 : 83.6074185969 Minimum cost:  83.2090729593\n",
      "Iteration 146 : 83.6074185969 Minimum cost:  83.2090729593\n",
      "Iteration 147 : 84.3713506194 Minimum cost:  83.2090729593\n",
      "Iteration 148 : 84.0218298725 Minimum cost:  83.2090729593\n",
      "Iteration 149 : 84.0218298725 Minimum cost:  83.2090729593\n",
      "Iteration 150 : 83.9088675206 Minimum cost:  83.2090729593\n",
      "Iteration 151 : 83.9088675206 Minimum cost:  83.2090729593\n",
      "Iteration 152 : 83.4162785971 Minimum cost:  83.2090729593\n",
      "Iteration 153 : 90.6275452165 Minimum cost:  83.2090729593\n",
      "Iteration 154 : 83.8146242347 Minimum cost:  83.2090729593\n",
      "Iteration 155 : 83.4162785971 Minimum cost:  83.2090729593\n",
      "Iteration 156 : 94.3244260524 Minimum cost:  83.2090729593\n",
      "Iteration 157 : 83.7016618828 Minimum cost:  83.2090729593\n",
      "Iteration 158 : 83.7016618828 Minimum cost:  83.2090729593\n",
      "Iteration 159 : 88.3864017554 Minimum cost:  83.2090729593\n",
      "Iteration 160 : 83.6234842349 Minimum cost:  83.2090729593\n",
      "Iteration 161 : 83.6234842349 Minimum cost:  83.2090729593\n",
      "Iteration 162 : 83.6234842349 Minimum cost:  83.2090729593\n",
      "Iteration 163 : 83.6234842349 Minimum cost:  83.2090729593\n",
      "Iteration 164 : 83.6234842349 Minimum cost:  83.2090729593\n",
      "Iteration 165 : 83.6234842349 Minimum cost:  83.2090729593\n",
      "Iteration 166 : 83.6234842349 Minimum cost:  83.2090729593\n",
      "Iteration 167 : 83.6234842349 Minimum cost:  83.2090729593\n",
      "Iteration 168 : 83.6234842349 Minimum cost:  83.2090729593\n",
      "Iteration 169 : 83.6234842349 Minimum cost:  83.2090729593\n",
      "Iteration 170 : 83.6234842349 Minimum cost:  83.2090729593\n",
      "Iteration 171 : 83.8306898727 Minimum cost:  83.2090729593\n",
      "Iteration 172 : 83.8146242347 Minimum cost:  83.2090729593\n",
      "Iteration 173 : 83.8146242347 Minimum cost:  83.2090729593\n",
      "Iteration 174 : 83.4162785971 Minimum cost:  83.2090729593\n",
      "Iteration 175 : 83.4162785971 Minimum cost:  83.2090729593\n",
      "Iteration 176 : 83.4162785971 Minimum cost:  83.2090729593\n",
      "Iteration 177 : 83.4162785971 Minimum cost:  83.2090729593\n",
      "Iteration 178 : 83.4162785971 Minimum cost:  83.2090729593\n",
      "Iteration 179 : 83.2090729593 Minimum cost:  83.2090729593\n",
      "Iteration 180 : 83.2090729593 Minimum cost:  83.2090729593\n",
      "Iteration 181 : 98.086186726 Minimum cost:  83.2090729593\n",
      "Iteration 182 : 83.4162785971 Minimum cost:  83.2090729593\n",
      "Iteration 183 : 83.4162785971 Minimum cost:  83.2090729593\n",
      "Iteration 184 : 83.4162785971 Minimum cost:  83.2090729593\n",
      "Iteration 185 : 83.4162785971 Minimum cost:  83.2090729593\n",
      "Iteration 186 : 95.1852134951 Minimum cost:  83.2090729593\n",
      "Iteration 187 : 83.6234842349 Minimum cost:  83.2090729593\n",
      "Iteration 188 : 83.6234842349 Minimum cost:  83.2090729593\n",
      "Iteration 189 : 83.6234842349 Minimum cost:  83.2090729593\n",
      "Iteration 190 : 83.6234842349 Minimum cost:  83.2090729593\n",
      "Iteration 191 : 83.6234842349 Minimum cost:  83.2090729593\n",
      "Iteration 192 : 83.6234842349 Minimum cost:  83.2090729593\n",
      "Iteration 193 : 89.1852134951 Minimum cost:  83.2090729593\n",
      "Iteration 194 : 83.7016618828 Minimum cost:  83.2090729593\n",
      "Iteration 195 : 101.402204743 Minimum cost:  83.2090729593\n",
      "Iteration 196 : 83.9088675206 Minimum cost:  83.2090729593\n",
      "Iteration 197 : 104.311854293 Minimum cost:  83.2090729593\n",
      "Iteration 198 : 83.9480395552 Minimum cost:  83.2090729593\n",
      "Iteration 199 : 83.7016618828 Minimum cost:  83.2090729593\n",
      "Iteration 200 : 83.7016618828 Minimum cost:  83.2090729593\n",
      "Iteration 201 : 94.2852540178 Minimum cost:  83.2090729593\n",
      "Iteration 202 : 83.9088675206 Minimum cost:  83.2090729593\n",
      "Iteration 203 : 83.9088675206 Minimum cost:  83.2090729593\n",
      "Iteration 204 : 83.7016618828 Minimum cost:  83.2090729593\n",
      "Iteration 205 : 83.7016618828 Minimum cost:  83.2090729593\n",
      "Iteration 206 : 83.7016618828 Minimum cost:  83.2090729593\n",
      "Iteration 207 : 83.7016618828 Minimum cost:  83.2090729593\n",
      "Iteration 208 : 83.7016618828 Minimum cost:  83.2090729593\n",
      "Iteration 209 : 83.7016618828 Minimum cost:  83.2090729593\n",
      "Iteration 210 : 83.7016618828 Minimum cost:  83.2090729593\n",
      "Iteration 211 : 83.7016618828 Minimum cost:  83.2090729593\n",
      "Iteration 212 : 83.2090729593 Minimum cost:  83.2090729593\n",
      "Iteration 213 : 83.2090729593 Minimum cost:  83.2090729593\n",
      "Iteration 214 : 83.2090729593 Minimum cost:  83.2090729593\n",
      "Iteration 215 : 83.2090729593 Minimum cost:  83.2090729593\n",
      "Iteration 216 : 83.2090729593 Minimum cost:  83.2090729593\n",
      "Iteration 217 : 83.2090729593 Minimum cost:  83.2090729593\n",
      "Iteration 218 : 83.2090729593 Minimum cost:  83.2090729593\n",
      "Iteration 219 : 83.2090729593 Minimum cost:  83.2090729593\n",
      "Iteration 220 : 97.4223998303 Minimum cost:  83.2090729593\n",
      "Iteration 221 : 83.7016618828 Minimum cost:  83.2090729593\n",
      "Iteration 222 : 83.7016618828 Minimum cost:  83.2090729593\n",
      "Iteration 223 : 83.7016618828 Minimum cost:  83.2090729593\n",
      "Iteration 224 : 90.0208566644 Minimum cost:  83.2090729593\n",
      "Iteration 225 : 83.7016618828 Minimum cost:  83.2090729593\n",
      "Iteration 226 : 83.7016618828 Minimum cost:  83.2090729593\n",
      "Iteration 227 : 83.2090729593 Minimum cost:  83.2090729593\n",
      "Iteration 228 : 83.2090729593 Minimum cost:  83.2090729593\n",
      "Iteration 229 : 83.2090729593 Minimum cost:  83.2090729593\n",
      "Iteration 230 : 83.2090729593 Minimum cost:  83.2090729593\n",
      "Iteration 231 : 83.2090729593 Minimum cost:  83.2090729593\n",
      "Iteration 232 : 83.2090729593 Minimum cost:  83.2090729593\n",
      "Iteration 233 : 83.2090729593 Minimum cost:  83.2090729593\n",
      "Iteration 234 : 83.2090729593 Minimum cost:  83.2090729593\n",
      "FINAL ANSWER 83.2090729593 [[ 0.  0.  4.  4.  0.]\n",
      " [ 3.  0.  0.  0.  1.]\n",
      " [ 0.  5.  0.  3.  4.]\n",
      " [ 0.  0.  6.  0.  0.]] 83.2090729593\n"
     ]
    }
   ],
   "source": [
    "cost = find_cost(supply_coords,demand_coords)\n",
    "parents = init_Parent_Gen(population,num_supply,num_demand,source,dest,cost)\n",
    "parents = bubble_sort(parents,cost)\n",
    "parents= remove_copies(parents)\n",
    "no = len(parents)\n",
    "p = parents.copy()\n",
    "itr = 0\n",
    "temp = []\n",
    "endFinder = 200\n",
    "endNum =0\n",
    "c=[]\n",
    "m=[]\n",
    "\n",
    "\n",
    "for i in range(num_gen):\n",
    "\n",
    "    temp = []\n",
    "    c = add_or_remove(do_cross(add_or_remove(p,0,cost),cross_num,num_supply,num_demand,cost,source,dest),1,cost)\n",
    "    m = add_or_remove(do_mutate(add_or_remove(p,0,cost),mutate_num,cost,num_supply,num_demand,source,dest),1,cost)\n",
    "    \n",
    "    temp = c+m+p\n",
    "\n",
    "    temp = bubble_sort(temp,cost)\n",
    "    temp = remove_copies(temp)\n",
    "    p = []\n",
    "    p = temp[:population]\n",
    "\n",
    "    itr = itr+1\n",
    "    if endFinder>p[0][0]:\n",
    "        endFinder=p[0][0]\n",
    "        if endNum==0:\n",
    "            endNum= endNum+1\n",
    "        else:\n",
    "            endNum=0\n",
    "    elif endFinder==p[0][0]:\n",
    "        endNum= endNum+1\n",
    "        if (endNum-1)==convergence_no:\n",
    "            print(\"FINAL ANSWER\" ,p[0][0],p[0][1],np.sum(p[0][1]*cost))\n",
    "            break\n",
    "\n",
    "    print(\"Iteration\",i,\":\",p[0][0],\"Minimum cost: \" ,endFinder)\n",
    "    "
   ]
  },
  {
   "cell_type": "markdown",
   "metadata": {
    "collapsed": false,
    "deletable": true,
    "editable": true
   },
   "source": [
    "### Final Output"
   ]
  },
  {
   "cell_type": "markdown",
   "metadata": {},
   "source": [
    "Minimized cost"
   ]
  },
  {
   "cell_type": "code",
   "execution_count": 129,
   "metadata": {
    "collapsed": false
   },
   "outputs": [
    {
     "name": "stdout",
     "output_type": "stream",
     "text": [
      "83.2090729593\n"
     ]
    }
   ],
   "source": [
    "print(p[0][0])"
   ]
  },
  {
   "cell_type": "markdown",
   "metadata": {},
   "source": [
    "Solution matrix"
   ]
  },
  {
   "cell_type": "code",
   "execution_count": 130,
   "metadata": {
    "collapsed": false,
    "deletable": true,
    "editable": true
   },
   "outputs": [
    {
     "name": "stdout",
     "output_type": "stream",
     "text": [
      "[[ 0.  0.  4.  4.  0.]\n",
      " [ 3.  0.  0.  0.  1.]\n",
      " [ 0.  5.  0.  3.  4.]\n",
      " [ 0.  0.  6.  0.  0.]]\n"
     ]
    }
   ],
   "source": [
    "print(p[0][1])"
   ]
  }
 ],
 "metadata": {
  "kernelspec": {
   "display_name": "Python 3",
   "language": "python",
   "name": "python3"
  },
  "language_info": {
   "codemirror_mode": {
    "name": "ipython",
    "version": 3
   },
   "file_extension": ".py",
   "mimetype": "text/x-python",
   "name": "python",
   "nbconvert_exporter": "python",
   "pygments_lexer": "ipython3",
   "version": "3.5.2"
  }
 },
 "nbformat": 4,
 "nbformat_minor": 2
}
