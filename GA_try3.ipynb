{
 "cells": [
  {
   "cell_type": "code",
   "execution_count": 186,
   "metadata": {},
   "outputs": [],
   "source": [
    "import numpy as np\n",
    "import random #https://stackoverflow.com/questions/306400/how-to-randomly-select-an-item-from-a-list\n",
    "import math\n",
    "import random\n"
   ]
  },
  {
   "cell_type": "code",
   "execution_count": 187,
   "metadata": {},
   "outputs": [
    {
     "name": "stdout",
     "output_type": "stream",
     "text": [
      "2\n"
     ]
    }
   ],
   "source": [
    "source = [8,4,12,6]\n",
    "dest = [3,5,10,7,5]\n",
    "supply_coords = [[7., 6.],[2., 7.],[1., 6.],[6., 8.]]\n",
    "demand_coords = [[3., 9.],[4., 6.],[5., 7.],[5., 3.],[2., 9.]]\n",
    " \n",
    "def distance(x1,x2,y1,y2):\n",
    "    return math.sqrt((x1-x2)**2+(y1-y2)**2)\n",
    "\n",
    "#cost function\n",
    "cost = np.zeros((len(source),len(dest)))\n",
    "for i in range(len(source)):\n",
    "    for j in range(len(dest)):\n",
    "        cost[i,j] = distance(supply_coords[i][0],demand_coords[j][0],supply_coords[i][1],demand_coords[j][1])\n",
    "\n",
    "#population number controls how many parents are produced. For now lets keep as 2.        \n",
    "population = 2\n",
    "\n",
    "def bubble_sort(arrx):   \n",
    "    swapped = True\n",
    "    while swapped:\n",
    "        swapped = False\n",
    "        for i in range(len(arrx) - 1):\n",
    "            if arrx[i][0] > arrx[i + 1][0]:\n",
    "                arrx[i], arrx[i + 1] = arrx[i + 1], arrx[i]\n",
    "                swapped = True\n",
    "                \n",
    "#Initialisation\n",
    "pi = []\n",
    "for i in range(1,len(source)*len(dest)+1):\n",
    "    pi.append(i)\n",
    "\n",
    "minval = 300\n",
    "\n",
    "parents= []\n",
    "\n",
    "for p in range(population):\n",
    "\n",
    "    X = np.zeros((len(source),len(dest)))\n",
    "\n",
    "    s = source.copy()\n",
    "    d = dest.copy()\n",
    "\n",
    "    test = pi.copy()\n",
    "\n",
    "    while(len(test)!=0):\n",
    "        k = random.choice(test)\n",
    "        i = int(((k-1)/len(d)))\n",
    "        j = ((k-1)%len(d)) \n",
    "        X[i,j] = min(s[i],d[j])\n",
    "        s[i] = s[i] - X[i,j]\n",
    "        d[j] = d[j] - X[i,j]\n",
    "        test.remove(k)           #https://www.programiz.com/python-programming/methods/list/remove\n",
    "        \n",
    "    parents.append([np.sum(cost*X),X])\n",
    "    \n",
    "#     if(np.sum(cost*X) < minval):\n",
    "#         minval = np.sum(cost*X)\n",
    "#         answer = np.array(X)\n",
    "\n",
    "#sorts the parent based on their costs\n",
    "bubble_sort(parents)\n",
    "\n",
    "# parents = parents[:len(parents)//2]\n",
    "print(len(parents))"
   ]
  },
  {
   "cell_type": "code",
   "execution_count": 188,
   "metadata": {},
   "outputs": [],
   "source": [
    "def offsprings_maker(p,q):\n",
    "\n",
    "    D = np.zeros((len(source),len(dest)))\n",
    "    R = np.zeros((len(source),len(dest)))\n",
    "\n",
    "    for i in range(len(source)):\n",
    "        for j in range(len(dest)):\n",
    "            D[i,j] = int((p[i,j]+q[i,j])/2)\n",
    "            R[i,j] = (p[i,j]+q[i,j])%2\n",
    "\n",
    "    R1 = np.zeros((len(source),len(dest)))\n",
    "    R2 = np.zeros((len(source),len(dest)))\n",
    "\n",
    "    flag = 0\n",
    "    for i in range(len(source)):\n",
    "        for j in range(len(dest)):\n",
    "            if(R[i,j]==1):\n",
    "                if(flag==0):\n",
    "                    R1[i,j]= 1\n",
    "                    flag = 1\n",
    "                else:\n",
    "                    R2[i,j]= 1\n",
    "                    flag = 0\n",
    "    X1 = D+R1\n",
    "    X2 = D+R2\n",
    "    \n",
    "    return X1,X2"
   ]
  },
  {
   "cell_type": "code",
   "execution_count": 189,
   "metadata": {},
   "outputs": [
    {
     "name": "stdout",
     "output_type": "stream",
     "text": [
      "104.76114519623835 105.31699226639579\n"
     ]
    }
   ],
   "source": [
    "# https://stackoverflow.com/questions/52430910/valueerror-truth-value-ambiguous-when-removing-value-from-list-which-are-values\n",
    "\n",
    "offsprings = []\n",
    "parents_dl = parents.copy()\n",
    "p = parents_dl[0]\n",
    "q = parents_dl[len(parents_dl)-1]\n",
    "off1 =[]\n",
    "off2 = []\n",
    "if p!=q:\n",
    "    a = p[1]\n",
    "    b = q[1]\n",
    "    off1,off2 = offsprings_maker(a,b)\n",
    "    print(np.sum(cost*off1), np.sum(cost*off2))\n",
    "    offsprings.append(off1)\n",
    "    offsprings.append(off2)\n",
    "    parents_dl.remove(parents_dl[0])\n",
    "    parents_dl.remove(parents_dl[len(parents_dl)-1])\n",
    "\n"
   ]
  },
  {
   "cell_type": "code",
   "execution_count": 195,
   "metadata": {},
   "outputs": [],
   "source": [
    "def mutate(a):\n",
    "    n_rows, n_cols = random.randint(2,a.shape[0]),random.randint(2,a.shape[1])\n",
    "#    n_rows, n_cols = random.randint(2,a.shape[0])//random.randint(1,a.shape[0]//2),random.randint(2,a.shape[1])//random.randint(1,a.shape[1]//2)\n",
    "    row = []\n",
    "    col = []\n",
    "    if n_rows==0:\n",
    "        n_rows = 1\n",
    "    if n_cols==0:\n",
    "        n_cols = 1\n",
    "    while len(row)<n_rows:\n",
    "        x = random.randint(0,a.shape[0]-1)\n",
    "        if x not in row:\n",
    "            row.append(x)\n",
    "            \n",
    "    while len(col)<n_cols:\n",
    "        x = random.randint(0,a.shape[1]-1)\n",
    "        if x not in col:\n",
    "            col.append(x)\n",
    "            \n",
    "    row.sort()\n",
    "    col.sort()\n",
    "    \n",
    "#     print(a[np.ix_(row,col)])\n",
    "#     print(row, col)\n",
    "    \n",
    "    A = np.zeros((n_rows,n_cols))\n",
    "    \n",
    "    s = np.sum(a[np.ix_(row,col)],axis=1)\n",
    "    d = np.sum(a[np.ix_(row,col)],axis=0)\n",
    "    \n",
    "    test = []\n",
    "    for i in range(1,len(s)*len(d)+1):\n",
    "        test.append(i)\n",
    "    \n",
    "    while(len(test)!=0):\n",
    "        k = random.choice(test)\n",
    "        i = int(((k-1)/len(d)))\n",
    "        j = ((k-1)%len(d)) \n",
    "        A[i,j] = min(s[i],d[j])\n",
    "        s[i] = s[i] - A[i,j]\n",
    "        d[j] = d[j] - A[i,j]\n",
    "        test.remove(k)           #https://www.programiz.com/python-programming/methods/list/remove\n",
    "    \n",
    "    row_itr = 0\n",
    "    col_itr = 0\n",
    "    for i in row:\n",
    "        for j in col:\n",
    "            a[i,j] = A[row_itr,col_itr]\n",
    "            col_itr = col_itr+1\n",
    "        row_itr = row_itr+1\n",
    "        col_itr = 0\n",
    "\n",
    "    #Mutated offspring\n",
    "    print(a)"
   ]
  },
  {
   "cell_type": "code",
   "execution_count": 196,
   "metadata": {},
   "outputs": [],
   "source": [
    "# def mutate(a):\n",
    "#     start_rows, end_cols = random.randint(0,a.shape[0]-1),random.randint(0,a.shape[1]-1)\n",
    "#     print(n_rows,n_cols)"
   ]
  },
  {
   "cell_type": "code",
   "execution_count": 197,
   "metadata": {},
   "outputs": [
    {
     "data": {
      "text/plain": [
       "array([[0., 3., 4., 1., 0.],\n",
       "       [0., 0., 4., 0., 0.],\n",
       "       [0., 3., 0., 5., 4.],\n",
       "       [3., 0., 2., 1., 0.]])"
      ]
     },
     "execution_count": 197,
     "metadata": {},
     "output_type": "execute_result"
    }
   ],
   "source": [
    "offsprings[0]"
   ]
  },
  {
   "cell_type": "code",
   "execution_count": 198,
   "metadata": {},
   "outputs": [
    {
     "name": "stdout",
     "output_type": "stream",
     "text": [
      "[[0. 3. 4. 1. 0.]\n",
      " [0. 0. 4. 0. 0.]\n",
      " [0. 3. 0. 6. 3.]\n",
      " [3. 0. 2. 0. 1.]]\n"
     ]
    }
   ],
   "source": [
    "mutate(offsprings[0])"
   ]
  },
  {
   "cell_type": "code",
   "execution_count": null,
   "metadata": {},
   "outputs": [],
   "source": []
  },
  {
   "cell_type": "code",
   "execution_count": 194,
   "metadata": {},
   "outputs": [
    {
     "name": "stdout",
     "output_type": "stream",
     "text": [
      "92.8687092099567\n",
      "117.20942825267743\n",
      "a\n",
      "97.61321344498076\n",
      "105.31699226639579\n",
      "a\n"
     ]
    }
   ],
   "source": [
    "for i in range(len(parents)):\n",
    "    print(parents[i][0])\n",
    "print(\"a\")\n",
    "for i in range(len(offsprings)):\n",
    "    print(np.sum(cost*offsprings[i]))\n",
    "print(\"a\")\n"
   ]
  },
  {
   "cell_type": "code",
   "execution_count": null,
   "metadata": {},
   "outputs": [],
   "source": []
  }
 ],
 "metadata": {
  "kernelspec": {
   "display_name": "Python 3",
   "language": "python",
   "name": "python3"
  },
  "language_info": {
   "codemirror_mode": {
    "name": "ipython",
    "version": 3
   },
   "file_extension": ".py",
   "mimetype": "text/x-python",
   "name": "python",
   "nbconvert_exporter": "python",
   "pygments_lexer": "ipython3",
   "version": "3.7.3"
  }
 },
 "nbformat": 4,
 "nbformat_minor": 4
}
