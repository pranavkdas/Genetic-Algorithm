{
 "cells": [
  {
   "cell_type": "markdown",
   "metadata": {
    "deletable": true,
    "editable": true
   },
   "source": [
    "#### Imports"
   ]
  },
  {
   "cell_type": "code",
   "execution_count": 84,
   "metadata": {
    "collapsed": true,
    "deletable": true,
    "editable": true
   },
   "outputs": [],
   "source": [
    "import numpy as np\n",
    "import random \n",
    "import math\n",
    "import time"
   ]
  },
  {
   "cell_type": "markdown",
   "metadata": {
    "deletable": true,
    "editable": true
   },
   "source": [
    "#### Functions"
   ]
  },
  {
   "cell_type": "markdown",
   "metadata": {
    "deletable": true,
    "editable": true
   },
   "source": [
    "- Distance Function"
   ]
  },
  {
   "cell_type": "code",
   "execution_count": 85,
   "metadata": {
    "collapsed": true,
    "deletable": true,
    "editable": true
   },
   "outputs": [],
   "source": [
    "def find_distance(x1,x2,y1,y2):\n",
    "    return math.sqrt((x1-x2)**2+(y1-y2)**2)"
   ]
  },
  {
   "cell_type": "markdown",
   "metadata": {
    "deletable": true,
    "editable": true
   },
   "source": [
    "- Cost Function"
   ]
  },
  {
   "cell_type": "code",
   "execution_count": 86,
   "metadata": {
    "collapsed": true,
    "deletable": true,
    "editable": true
   },
   "outputs": [],
   "source": [
    "def find_cost(supply_coords,demand_coords):\n",
    "    cost = np.zeros((len(supply_coords),len(demand_coords)))\n",
    "    for i in range(len(supply_coords)):\n",
    "        for j in range(len(demand_coords)):\n",
    "            cost[i,j] = find_distance(supply_coords[i][0],demand_coords[j][0],supply_coords[i][1],demand_coords[j][1])\n",
    "    return cost"
   ]
  },
  {
   "cell_type": "markdown",
   "metadata": {
    "deletable": true,
    "editable": true
   },
   "source": [
    "- Bubble Sort"
   ]
  },
  {
   "cell_type": "code",
   "execution_count": 87,
   "metadata": {
    "collapsed": true,
    "deletable": true,
    "editable": true
   },
   "outputs": [],
   "source": [
    "def bubble_sort(arrx,cost):\n",
    "    parents = []\n",
    "    for i in range(len(arrx)):\n",
    "        parents.append(arrx[i][1])\n",
    "    swapped = True\n",
    "    while swapped:\n",
    "        swapped = False\n",
    "        for i in range(len(arrx) - 1):\n",
    "            if arrx[i][0] > arrx[i + 1][0]:\n",
    "                arrx[i], arrx[i + 1] = arrx[i + 1], arrx[i]\n",
    "                parents[i],parents[i+1] = parents[i+1],parents[i]\n",
    "                swapped = True\n",
    "    final = []\n",
    "    for i in range(len(parents)):\n",
    "        final.append([np.sum(cost*parents[i]),parents[i]])\n",
    "    return final"
   ]
  },
  {
   "cell_type": "markdown",
   "metadata": {
    "deletable": true,
    "editable": true
   },
   "source": [
    "- Initialize Parent Generation"
   ]
  },
  {
   "cell_type": "code",
   "execution_count": 88,
   "metadata": {
    "collapsed": true,
    "deletable": true,
    "editable": true
   },
   "outputs": [],
   "source": [
    "def init_Parent_Gen(population,num_supply,num_demand,source,dest,cost):\n",
    "    pi = []\n",
    "    for i in range(1,num_supply*num_demand+1):\n",
    "        pi.append(i)  \n",
    "    parents= []\n",
    "    for p in range(population):\n",
    "        X = np.zeros((num_supply,num_demand))\n",
    "        s = source.copy()\n",
    "        d = dest.copy()\n",
    "        test = pi.copy()\n",
    "        while(len(test)!=0):\n",
    "            k = random.choice(test)\n",
    "            i = int(((k-1)/len(d)))\n",
    "            j = ((k-1)%len(d)) \n",
    "            X[i,j] = min(s[i],d[j])\n",
    "            s[i] = s[i] - X[i,j]\n",
    "            d[j] = d[j] - X[i,j]\n",
    "            test.remove(k)\n",
    "        parents.append([np.sum(cost*X),X])   \n",
    "    return parents"
   ]
  },
  {
   "cell_type": "markdown",
   "metadata": {
    "deletable": true,
    "editable": true
   },
   "source": [
    "- Remove copies in the generation"
   ]
  },
  {
   "cell_type": "code",
   "execution_count": 89,
   "metadata": {
    "collapsed": true,
    "deletable": true,
    "editable": true
   },
   "outputs": [],
   "source": [
    "def remove_copies(parents):\n",
    "    x = []\n",
    "    final = []\n",
    "    for i in range(len(parents)):\n",
    "        x.append(parents[i][0])\n",
    "        if i==0:\n",
    "            final.append(parents[i])\n",
    "        if i!=0 and x[i]!=x[i-1]:\n",
    "            final.append(parents[i])\n",
    "    return final"
   ]
  },
  {
   "cell_type": "markdown",
   "metadata": {
    "deletable": true,
    "editable": true
   },
   "source": [
    "- Roulette's selection"
   ]
  },
  {
   "cell_type": "code",
   "execution_count": 90,
   "metadata": {
    "collapsed": false,
    "deletable": true,
    "editable": true
   },
   "outputs": [],
   "source": [
    "def selection(parents):\n",
    "    F = 0\n",
    "    for i in range(len(parents)):\n",
    "        F = F+ parents[i][0]\n",
    "    prb = []\n",
    "    for i in range(len(parents)):\n",
    "        prb.append((F- parents[i][0])/(F*(len(parents)-1)))\n",
    "    cum_prb = []\n",
    "    for i in range(len(prb)):\n",
    "        if i==0:\n",
    "            cum_prb.append(prb[i])\n",
    "        else:\n",
    "            cum_prb.append(cum_prb[-1]+prb[i])\n",
    "    r = random.random()\n",
    "    error = 1\n",
    "    e_ind = 1\n",
    "    for i in range(len(cum_prb)):\n",
    "        if error>abs(cum_prb[i]-r):\n",
    "            error=abs(cum_prb[i]-r)\n",
    "            e_ind = i\n",
    "    return parents[e_ind][1]"
   ]
  },
  {
   "cell_type": "markdown",
   "metadata": {
    "deletable": true,
    "editable": true
   },
   "source": [
    "- Crossover"
   ]
  },
  {
   "cell_type": "code",
   "execution_count": 91,
   "metadata": {
    "collapsed": true,
    "deletable": true,
    "editable": true
   },
   "outputs": [],
   "source": [
    "def crossover(p,q,num_supply,num_demand,cost):\n",
    "    D = np.zeros((num_supply,num_demand))\n",
    "    R = np.zeros((num_supply,num_demand))\n",
    "    for i in range(num_supply):\n",
    "        for j in range(num_demand):\n",
    "            D[i,j] = int((p[i,j]+q[i,j])/2)\n",
    "            R[i,j] = (p[i,j]+q[i,j])%2\n",
    "    horP_sum = np.sum(p,axis=1)\n",
    "    verP_sum = np.sum(q,axis=0)\n",
    "    R_dash = []\n",
    "    R_costs = []\n",
    "    for i in range(100):\n",
    "        A = np.zeros((num_supply,num_demand))\n",
    "        test = []\n",
    "        s = np.sum(R/2,axis=1)\n",
    "        d = np.sum(R/2,axis=0)\n",
    "        for i in range(1,len(s)*len(d)+1):\n",
    "            test.append(i)\n",
    "        while(len(test)!=0):\n",
    "            k = random.choice(test)\n",
    "            i = int(((k-1)/len(d)))\n",
    "            j = ((k-1)%len(d))\n",
    "            A[i,j]=0\n",
    "            if s[i]!=0 and d[j]!=0:\n",
    "                    A[i,j] = 1\n",
    "                    s[i] = s[i]-1\n",
    "                    d[j]= d[j]-1\n",
    "            if np.sum(D+A,axis=1)[i]>horP_sum[i]:\n",
    "                if np.sum(D+A,axis=0)[j]>verP_sum[j]:\n",
    "                    A[i,j] = 0\n",
    "            test.remove(k)\n",
    "        if np.sum(cost*A) not in R_costs:\n",
    "            R_costs.append(np.sum(cost*A))\n",
    "            R_dash.append(A)\n",
    "        if len(R_dash)==2:\n",
    "            break\n",
    "    flag = 0\n",
    "    X1 = D+R_dash[0]\n",
    "    if len(R_dash)>1:\n",
    "        X2 = D+R_dash[1]\n",
    "        flag = 1\n",
    "        return X1,X2,flag\n",
    "    else:\n",
    "        return X1,X1,flag"
   ]
  },
  {
   "cell_type": "markdown",
   "metadata": {
    "deletable": true,
    "editable": true
   },
   "source": [
    "- Mutation"
   ]
  },
  {
   "cell_type": "code",
   "execution_count": 92,
   "metadata": {
    "collapsed": true,
    "deletable": true,
    "editable": true
   },
   "outputs": [],
   "source": [
    "def mutate(a):\n",
    "    n_rows, n_cols = random.randint(2,a.shape[0]),random.randint(2,a.shape[1])\n",
    "    row = []\n",
    "    col = []\n",
    "    while len(row)<n_rows:\n",
    "        x = random.randint(0,a.shape[0]-1)\n",
    "        if x not in row:\n",
    "            row.append(x)\n",
    "    while len(col)<n_cols:\n",
    "        x = random.randint(0,a.shape[1]-1)\n",
    "        if x not in col:\n",
    "            col.append(x)\n",
    "    row.sort()\n",
    "    col.sort()\n",
    "    A = np.zeros((n_rows,n_cols))\n",
    "    s = np.sum(a[np.ix_(row,col)],axis=1)\n",
    "    d = np.sum(a[np.ix_(row,col)],axis=0)   \n",
    "    test = []\n",
    "    for i in range(1,len(s)*len(d)+1):\n",
    "        test.append(i)    \n",
    "    while(len(test)!=0):\n",
    "        k = random.choice(test)\n",
    "        i = int(((k-1)/len(d)))\n",
    "        j = ((k-1)%len(d)) \n",
    "        A[i,j] = min(s[i],d[j])\n",
    "        s[i] = s[i] - A[i,j]\n",
    "        d[j] = d[j] - A[i,j]\n",
    "        test.remove(k) \n",
    "    row_itr = 0\n",
    "    col_itr = 0\n",
    "    for i in row:\n",
    "        for j in col:\n",
    "            a[i,j] = A[row_itr,col_itr]            \n",
    "            col_itr = col_itr+1\n",
    "        row_itr = row_itr+1\n",
    "        col_itr=0\n",
    "    return a"
   ]
  },
  {
   "cell_type": "markdown",
   "metadata": {
    "deletable": true,
    "editable": true
   },
   "source": [
    "- Give offsprings from nth generation"
   ]
  },
  {
   "cell_type": "code",
   "execution_count": 93,
   "metadata": {
    "collapsed": true,
    "deletable": true,
    "editable": true
   },
   "outputs": [],
   "source": [
    "def do_cross(copy_parents,cross_num,num_supply,num_demand,cost,source,dest):\n",
    "    offsprings = []\n",
    "    parents = add_or_remove(copy_parents,1,cost)\n",
    "    n = int(cross_num*len(copy_parents))\n",
    "    while n!=1 and n!=0:\n",
    "        a = selection(parents)\n",
    "        b = selection(parents)\n",
    "        if np.sum(cost*a)!=np.sum(cost*b):\n",
    "            off1 = np.zeros((num_supply,num_demand))\n",
    "            off2 = np.zeros((num_supply,num_demand))\n",
    "            off1,off2,flag = crossover(a,b,num_supply,num_demand,cost)\n",
    "            temp_hor = 0\n",
    "            temp_vert = 0\n",
    "            if flag==1:\n",
    "                horOff1 = np.sum(off1,axis=1)\n",
    "                vertOff1 = np.sum(off1,axis=0)\n",
    "                horOff2 = np.sum(off2,axis=1)\n",
    "                vertOff2 = np.sum(off2,axis=0)\n",
    "                for i in range(num_supply):\n",
    "                    if source[i]==horOff1[i] and source[i]==horOff2[i]:\n",
    "                        temp_hor = temp_hor+1\n",
    "                for i in range(num_demand):\n",
    "                    if dest[i]==vertOff1[i] and dest[i]==vertOff2[i]:\n",
    "                        temp_vert = temp_vert+1\n",
    "                if temp_hor==num_supply and temp_vert==num_demand:\n",
    "                    offsprings.append(off1)\n",
    "                    offsprings.append(off2)\n",
    "                n=n-2\n",
    "            else:\n",
    "                horOff1 = np.sum(off1,axis=1)\n",
    "                vertOff1 = np.sum(off1,axis=0)\n",
    "                for i in range(num_supply):\n",
    "                    if source[i]==horOff1[i]:\n",
    "                        temp_hor = temp_hor+1\n",
    "                for i in range(num_demand):\n",
    "                    if dest[i]==vertOff1[i]:\n",
    "                        temp_vert = temp_vert+1\n",
    "                if temp_hor==num_supply and temp_vert==num_demand:\n",
    "                    offsprings.append(off1)\n",
    "                n=n-1\n",
    "    return offsprings"
   ]
  },
  {
   "cell_type": "markdown",
   "metadata": {
    "deletable": true,
    "editable": true
   },
   "source": [
    "- Add/Remove cost"
   ]
  },
  {
   "cell_type": "code",
   "execution_count": 94,
   "metadata": {
    "collapsed": true,
    "deletable": true,
    "editable": true
   },
   "outputs": [],
   "source": [
    "def add_or_remove(parents,flag,cost):\n",
    "    p = []\n",
    "    if flag==1:\n",
    "        for i in range(len(parents)):\n",
    "            p.append([np.sum(cost*parents[i]),parents[i]])\n",
    "    if flag==0:\n",
    "        for i in range(len(parents)):\n",
    "            p.append(parents[i][1])\n",
    "    return p"
   ]
  },
  {
   "cell_type": "code",
   "execution_count": 95,
   "metadata": {
    "collapsed": false,
    "deletable": true,
    "editable": true
   },
   "outputs": [],
   "source": [
    "def do_mutate(copy_parents,mut_num,cost,num_supply,num_demand,source,dest):\n",
    "    n = int(mut_num*len(copy_parents))\n",
    "    parents = add_or_remove(copy_parents,1,cost)\n",
    "    offsprings = []\n",
    "    temp_hor = 0\n",
    "    temp_vert = 0\n",
    "    while n!=0:\n",
    "        a = selection(parents)\n",
    "        off1 = mutate(a)\n",
    "        horOff1 = np.sum(off1,axis=1)\n",
    "        vertOff1 = np.sum(off1,axis=0)\n",
    "        for i in range(num_supply):\n",
    "            if source[i]==horOff1[i]:\n",
    "                temp_hor = temp_hor+1\n",
    "        for i in range(num_demand):\n",
    "            if dest[i]==vertOff1[i]:\n",
    "                temp_vert = temp_vert+1\n",
    "        if temp_hor==num_supply and temp_vert==num_demand:\n",
    "            offsprings.append(off1)\n",
    "        n = n-1\n",
    "    return offsprings"
   ]
  },
  {
   "cell_type": "markdown",
   "metadata": {
    "deletable": true,
    "editable": true
   },
   "source": [
    "#### INPUT "
   ]
  },
  {
   "cell_type": "code",
   "execution_count": 96,
   "metadata": {
    "collapsed": false,
    "deletable": true,
    "editable": true
   },
   "outputs": [],
   "source": [
    "source = [8,4,12,6]\n",
    "dest = [3,5,10,7,5]\n",
    "supply_coords = [[7., 6.],[2., 7.],[1., 6.],[6., 8.]]\n",
    "demand_coords = [[3., 9.],[4., 6.],[5., 7.],[5., 3.],[2., 9.]]\n",
    "# source = [13,12]\n",
    "# dest = [9, 16]\n",
    "# supply_coords = [[7., 6.],[2., 5.]]\n",
    "# demand_coords = [[3., 9.],[4., 6.]]\n",
    "population = 100\n",
    "num_supply = len(source)\n",
    "num_demand = len(dest)\n",
    "cross_num = 0.4\n",
    "mutate_num = 0.2\n",
    "num_gen = 1000\n",
    "convergence_no = 25"
   ]
  },
  {
   "cell_type": "markdown",
   "metadata": {
    "deletable": true,
    "editable": true
   },
   "source": [
    "#### Main loop"
   ]
  },
  {
   "cell_type": "code",
   "execution_count": 97,
   "metadata": {
    "collapsed": false,
    "deletable": true,
    "editable": true,
    "scrolled": true
   },
   "outputs": [
    {
     "name": "stdout",
     "output_type": "stream",
     "text": [
      "Iteration 0 : 117.16455969 Minimum cost:  117.16455969\n",
      "Iteration 1 : 84.9127644338 Minimum cost:  84.9127644338\n",
      "Iteration 2 : 84.9127644338 Minimum cost:  84.9127644338\n",
      "Iteration 3 : 84.3713506194 Minimum cost:  84.3713506194\n",
      "Iteration 4 : 84.3713506194 Minimum cost:  84.3713506194\n",
      "Iteration 5 : 84.3713506194 Minimum cost:  84.3713506194\n",
      "Iteration 6 : 89.9491455176 Minimum cost:  84.3713506194\n",
      "Iteration 7 : 86.9018391941 Minimum cost:  84.3713506194\n",
      "Iteration 8 : 92.137609721 Minimum cost:  84.3713506194\n",
      "Iteration 9 : 83.8306898727 Minimum cost:  83.8306898727\n",
      "Iteration 10 : 92.1973822199 Minimum cost:  83.8306898727\n",
      "Iteration 11 : 86.4406284788 Minimum cost:  83.8306898727\n",
      "Iteration 12 : 107.523516303 Minimum cost:  83.8306898727\n",
      "Iteration 13 : 85.9088675206 Minimum cost:  83.8306898727\n",
      "Iteration 14 : 85.9088675206 Minimum cost:  83.8306898727\n",
      "Iteration 15 : 83.8306898727 Minimum cost:  83.8306898727\n",
      "Iteration 16 : 83.8306898727 Minimum cost:  83.8306898727\n",
      "Iteration 17 : 83.8306898727 Minimum cost:  83.8306898727\n",
      "Iteration 18 : 83.8306898727 Minimum cost:  83.8306898727\n",
      "Iteration 19 : 83.8306898727 Minimum cost:  83.8306898727\n",
      "Iteration 20 : 83.8306898727 Minimum cost:  83.8306898727\n",
      "Iteration 21 : 83.8306898727 Minimum cost:  83.8306898727\n",
      "Iteration 22 : 83.8306898727 Minimum cost:  83.8306898727\n",
      "Iteration 23 : 83.8306898727 Minimum cost:  83.8306898727\n",
      "Iteration 24 : 83.8306898727 Minimum cost:  83.8306898727\n",
      "Iteration 25 : 83.8306898727 Minimum cost:  83.8306898727\n",
      "Iteration 26 : 83.8146242347 Minimum cost:  83.8146242347\n",
      "Iteration 27 : 83.8146242347 Minimum cost:  83.8146242347\n",
      "Iteration 28 : 83.8146242347 Minimum cost:  83.8146242347\n",
      "Iteration 29 : 83.7016618828 Minimum cost:  83.7016618828\n",
      "Iteration 30 : 90.6739055055 Minimum cost:  83.7016618828\n",
      "Iteration 31 : 100.623842456 Minimum cost:  83.7016618828\n",
      "Iteration 32 : 83.2090729593 Minimum cost:  83.2090729593\n",
      "Iteration 33 : 83.2090729593 Minimum cost:  83.2090729593\n",
      "Iteration 34 : 83.2090729593 Minimum cost:  83.2090729593\n",
      "Iteration 35 : 83.2090729593 Minimum cost:  83.2090729593\n",
      "Iteration 36 : 83.2090729593 Minimum cost:  83.2090729593\n",
      "Iteration 37 : 83.2090729593 Minimum cost:  83.2090729593\n",
      "Iteration 38 : 83.2090729593 Minimum cost:  83.2090729593\n",
      "Iteration 39 : 83.2090729593 Minimum cost:  83.2090729593\n",
      "Iteration 40 : 83.2090729593 Minimum cost:  83.2090729593\n",
      "Iteration 41 : 83.2090729593 Minimum cost:  83.2090729593\n",
      "Iteration 42 : 83.2090729593 Minimum cost:  83.2090729593\n",
      "Iteration 43 : 83.2090729593 Minimum cost:  83.2090729593\n",
      "Iteration 44 : 83.2090729593 Minimum cost:  83.2090729593\n",
      "Iteration 45 : 83.2090729593 Minimum cost:  83.2090729593\n",
      "Iteration 46 : 83.2090729593 Minimum cost:  83.2090729593\n",
      "Iteration 47 : 83.2090729593 Minimum cost:  83.2090729593\n",
      "Iteration 48 : 83.2090729593 Minimum cost:  83.2090729593\n",
      "Iteration 49 : 90.7130775401 Minimum cost:  83.2090729593\n",
      "Iteration 50 : 93.3139499364 Minimum cost:  83.2090729593\n",
      "Iteration 51 : 83.7016618828 Minimum cost:  83.2090729593\n",
      "Iteration 52 : 83.7016618828 Minimum cost:  83.2090729593\n",
      "Iteration 53 : 83.6074185969 Minimum cost:  83.2090729593\n",
      "Iteration 54 : 83.6074185969 Minimum cost:  83.2090729593\n",
      "Iteration 55 : 83.6074185969 Minimum cost:  83.2090729593\n",
      "Iteration 56 : 83.6074185969 Minimum cost:  83.2090729593\n",
      "Iteration 57 : 83.6074185969 Minimum cost:  83.2090729593\n",
      "Iteration 58 : 83.6074185969 Minimum cost:  83.2090729593\n",
      "Iteration 59 : 83.6074185969 Minimum cost:  83.2090729593\n",
      "Iteration 60 : 83.8306898727 Minimum cost:  83.2090729593\n",
      "Iteration 61 : 83.6234842349 Minimum cost:  83.2090729593\n",
      "Iteration 62 : 83.6234842349 Minimum cost:  83.2090729593\n",
      "Iteration 63 : 83.4162785971 Minimum cost:  83.2090729593\n",
      "Iteration 64 : 83.4162785971 Minimum cost:  83.2090729593\n",
      "Iteration 65 : 83.4162785971 Minimum cost:  83.2090729593\n",
      "Iteration 66 : 83.4162785971 Minimum cost:  83.2090729593\n",
      "Iteration 67 : 83.4162785971 Minimum cost:  83.2090729593\n",
      "Iteration 68 : 83.4162785971 Minimum cost:  83.2090729593\n",
      "Iteration 69 : 83.4162785971 Minimum cost:  83.2090729593\n",
      "Iteration 70 : 83.4162785971 Minimum cost:  83.2090729593\n",
      "Iteration 71 : 83.4162785971 Minimum cost:  83.2090729593\n",
      "Iteration 72 : 83.4162785971 Minimum cost:  83.2090729593\n",
      "Iteration 73 : 94.7890409107 Minimum cost:  83.2090729593\n",
      "Iteration 74 : 83.6234842349 Minimum cost:  83.2090729593\n",
      "Iteration 75 : 83.6234842349 Minimum cost:  83.2090729593\n",
      "Iteration 76 : 83.6234842349 Minimum cost:  83.2090729593\n",
      "Iteration 77 : 83.4162785971 Minimum cost:  83.2090729593\n",
      "Iteration 78 : 83.4162785971 Minimum cost:  83.2090729593\n",
      "Iteration 79 : 83.4162785971 Minimum cost:  83.2090729593\n",
      "Iteration 80 : 83.4162785971 Minimum cost:  83.2090729593\n",
      "Iteration 81 : 83.4162785971 Minimum cost:  83.2090729593\n",
      "Iteration 82 : 83.2090729593 Minimum cost:  83.2090729593\n",
      "Iteration 83 : 83.2090729593 Minimum cost:  83.2090729593\n",
      "Iteration 84 : 83.2090729593 Minimum cost:  83.2090729593\n",
      "Iteration 85 : 83.2090729593 Minimum cost:  83.2090729593\n",
      "Iteration 86 : 83.2090729593 Minimum cost:  83.2090729593\n",
      "Iteration 87 : 83.2090729593 Minimum cost:  83.2090729593\n",
      "Iteration 88 : 83.2090729593 Minimum cost:  83.2090729593\n",
      "Iteration 89 : 83.2090729593 Minimum cost:  83.2090729593\n",
      "FINAL ANSWER 83.2090729593 [[ 0.  0.  4.  4.  0.]\n",
      " [ 3.  0.  0.  0.  1.]\n",
      " [ 0.  5.  0.  3.  4.]\n",
      " [ 0.  0.  6.  0.  0.]] 83.2090729593\n"
     ]
    }
   ],
   "source": [
    "start = time.time()\n",
    "cost = find_cost(supply_coords,demand_coords)\n",
    "parents = init_Parent_Gen(population,num_supply,num_demand,source,dest,cost)\n",
    "parents = bubble_sort(parents,cost)\n",
    "parents= remove_copies(parents)\n",
    "no = len(parents)\n",
    "p = parents.copy()\n",
    "itr = 0\n",
    "temp = []\n",
    "endFinder = 200\n",
    "endNum =0\n",
    "c=[]\n",
    "m=[]\n",
    "\n",
    "\n",
    "for i in range(num_gen):\n",
    "\n",
    "    temp = []\n",
    "    c = add_or_remove(do_cross(add_or_remove(p,0,cost),cross_num,num_supply,num_demand,cost,source,dest),1,cost)\n",
    "    m = add_or_remove(do_mutate(add_or_remove(p,0,cost),mutate_num,cost,num_supply,num_demand,source,dest),1,cost)\n",
    "    \n",
    "    temp = c+m+p\n",
    "\n",
    "    temp = bubble_sort(temp,cost)\n",
    "    temp = remove_copies(temp)\n",
    "    p = []\n",
    "    p = temp[:population]\n",
    "\n",
    "    itr = itr+1\n",
    "    if endFinder>p[0][0]:\n",
    "        endFinder=p[0][0]\n",
    "        if endNum==0:\n",
    "            endNum= endNum+1\n",
    "        else:\n",
    "            endNum=0\n",
    "    elif endFinder==p[0][0]:\n",
    "        endNum= endNum+1\n",
    "        if (endNum-1)==convergence_no:\n",
    "            print(\"FINAL ANSWER\" ,p[0][0],p[0][1],np.sum(p[0][1]*cost))\n",
    "            break\n",
    "\n",
    "    print(\"Iteration\",i,\":\",p[0][0],\"Minimum cost: \" ,endFinder)\n",
    "\n",
    "end = time.time()"
   ]
  },
  {
   "cell_type": "markdown",
   "metadata": {
    "collapsed": false,
    "deletable": true,
    "editable": true
   },
   "source": [
    "### Final Output"
   ]
  },
  {
   "cell_type": "markdown",
   "metadata": {
    "deletable": true,
    "editable": true
   },
   "source": [
    "Minimized cost"
   ]
  },
  {
   "cell_type": "code",
   "execution_count": 98,
   "metadata": {
    "collapsed": false,
    "deletable": true,
    "editable": true
   },
   "outputs": [
    {
     "name": "stdout",
     "output_type": "stream",
     "text": [
      "83.2090729593\n"
     ]
    }
   ],
   "source": [
    "print(p[0][0])"
   ]
  },
  {
   "cell_type": "markdown",
   "metadata": {
    "deletable": true,
    "editable": true
   },
   "source": [
    "Solution matrix"
   ]
  },
  {
   "cell_type": "code",
   "execution_count": 99,
   "metadata": {
    "collapsed": false,
    "deletable": true,
    "editable": true
   },
   "outputs": [
    {
     "name": "stdout",
     "output_type": "stream",
     "text": [
      "[[ 0.  0.  4.  4.  0.]\n",
      " [ 3.  0.  0.  0.  1.]\n",
      " [ 0.  5.  0.  3.  4.]\n",
      " [ 0.  0.  6.  0.  0.]]\n"
     ]
    }
   ],
   "source": [
    "print(p[0][1])"
   ]
  },
  {
   "cell_type": "markdown",
   "metadata": {},
   "source": [
    "Time Taken"
   ]
  },
  {
   "cell_type": "code",
   "execution_count": 100,
   "metadata": {
    "collapsed": false
   },
   "outputs": [
    {
     "name": "stdout",
     "output_type": "stream",
     "text": [
      "6.631195068359375 sec\n"
     ]
    }
   ],
   "source": [
    "print(end-start,\"sec\")"
   ]
  }
 ],
 "metadata": {
  "kernelspec": {
   "display_name": "Python 3",
   "language": "python",
   "name": "python3"
  },
  "language_info": {
   "codemirror_mode": {
    "name": "ipython",
    "version": 3
   },
   "file_extension": ".py",
   "mimetype": "text/x-python",
   "name": "python",
   "nbconvert_exporter": "python",
   "pygments_lexer": "ipython3",
   "version": "3.5.2"
  }
 },
 "nbformat": 4,
 "nbformat_minor": 2
}
