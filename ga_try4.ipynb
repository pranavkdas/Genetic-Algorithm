{
 "cells": [
  {
   "cell_type": "code",
   "execution_count": 69,
   "metadata": {
    "collapsed": true,
    "deletable": true,
    "editable": true
   },
   "outputs": [],
   "source": [
    "import numpy as np\n",
    "import random #https://stackoverflow.com/questions/306400/how-to-randomly-select-an-item-from-a-list\n",
    "import math"
   ]
  },
  {
   "cell_type": "code",
   "execution_count": 70,
   "metadata": {
    "collapsed": false,
    "deletable": true,
    "editable": true
   },
   "outputs": [
    {
     "name": "stdout",
     "output_type": "stream",
     "text": [
      "93.9537889375\n"
     ]
    }
   ],
   "source": [
    "source = [8,4,12,6]\n",
    "dest = [3,5,10,7,5]\n",
    "supply_coords = [[7., 6.],[2., 7.],[1., 6.],[6., 8.]]\n",
    "demand_coords = [[3., 9.],[4., 6.],[5., 7.],[5., 3.],[2., 9.]]\n",
    " \n",
    "def distance(x1,x2,y1,y2):\n",
    "    return math.sqrt((x1-x2)**2+(y1-y2)**2)\n",
    "\n",
    "#cost function\n",
    "cost = np.zeros((len(source),len(dest)))\n",
    "for i in range(len(source)):\n",
    "    for j in range(len(dest)):\n",
    "        cost[i,j] = distance(supply_coords[i][0],demand_coords[j][0],supply_coords[i][1],demand_coords[j][1])\n",
    "\n",
    "#population number controls how many parents are produced. For now lets keep as 2.        \n",
    "population = 10\n",
    "\n",
    "def bubble_sort(arrx):   \n",
    "    swapped = True\n",
    "    while swapped:\n",
    "        swapped = False\n",
    "        for i in range(len(arrx) - 1):\n",
    "            if arrx[i][0] > arrx[i + 1][0]:\n",
    "                arrx[i], arrx[i + 1] = arrx[i + 1], arrx[i]\n",
    "                swapped = True\n",
    "                \n",
    "#Initialisation\n",
    "pi = []\n",
    "for i in range(1,len(source)*len(dest)+1):\n",
    "    pi.append(i)\n",
    "\n",
    "\n",
    "parents= []\n",
    "\n",
    "for p in range(population):\n",
    "\n",
    "    X = np.zeros((len(source),len(dest)))\n",
    "\n",
    "    s = source.copy()\n",
    "    d = dest.copy()\n",
    "\n",
    "    test = pi.copy()\n",
    "\n",
    "    while(len(test)!=0):\n",
    "        k = random.choice(test)\n",
    "        i = int(((k-1)/len(d)))\n",
    "        j = ((k-1)%len(d)) \n",
    "        X[i,j] = min(s[i],d[j])\n",
    "        s[i] = s[i] - X[i,j]\n",
    "        d[j] = d[j] - X[i,j]\n",
    "        test.remove(k)           #https://www.programiz.com/python-programming/methods/list/remove\n",
    "        \n",
    "    parents.append([np.sum(cost*X),X])\n",
    "    \n",
    "#     if(np.sum(cost*X) < minval):\n",
    "#         minval = np.sum(cost*X)\n",
    "#         answer = np.array(X)\n",
    "\n",
    "#sorts the parent based on their costs\n",
    "bubble_sort(parents)\n",
    "print(parents[0][0])\n",
    "#parents = parents[:len(parents)//2]"
   ]
  },
  {
   "cell_type": "code",
   "execution_count": 71,
   "metadata": {
    "collapsed": true,
    "deletable": true,
    "editable": true
   },
   "outputs": [],
   "source": [
    "def offsprings_maker(p,q):\n",
    "\n",
    "    D = np.zeros((len(source),len(dest)))\n",
    "    R = np.zeros((len(source),len(dest)))\n",
    "\n",
    "    for i in range(len(source)):\n",
    "        for j in range(len(dest)):\n",
    "            D[i,j] = int((p[i,j]+q[i,j])/2)\n",
    "            R[i,j] = (p[i,j]+q[i,j])%2\n",
    "\n",
    "    R1 = np.zeros((len(source),len(dest)))\n",
    "    R2 = np.zeros((len(source),len(dest)))\n",
    "\n",
    "    flag = 0\n",
    "    for i in range(len(source)):\n",
    "        for j in range(len(dest)):\n",
    "            if(R[i,j]==1):\n",
    "                if(flag==0):\n",
    "                    R1[i,j]= 1\n",
    "                    flag = 1\n",
    "                else:\n",
    "                    R2[i,j]= 1\n",
    "                    flag = 0\n",
    "    X1 = D+R1\n",
    "    X2 = D+R2\n",
    "    \n",
    "    return X1,X2\n"
   ]
  },
  {
   "cell_type": "code",
   "execution_count": 72,
   "metadata": {
    "collapsed": false,
    "deletable": true,
    "editable": true
   },
   "outputs": [],
   "source": [
    "offsprings = []\n",
    "copy_parents = parents.copy()\n",
    "while len(copy_parents) > 1 :\n",
    "    p = copy_parents[0]\n",
    "    q = copy_parents[-1]\n",
    "    off1 =[]\n",
    "    off2 = []\n",
    "    a = p[1]\n",
    "    b = q[1]\n",
    "    off1,off2 = offsprings_maker(a,b)\n",
    "    offsprings.append(off1)\n",
    "    offsprings.append(off2)\n",
    "    copy_parents.remove(p)\n",
    "    copy_parents.remove(q) "
   ]
  },
  {
   "cell_type": "code",
   "execution_count": 73,
   "metadata": {
    "collapsed": false,
    "deletable": true,
    "editable": true
   },
   "outputs": [],
   "source": [
    "def mutate(a):\n",
    "    n_rows, n_cols = random.randint(2,a.shape[0]),random.randint(2,a.shape[1])\n",
    "#    n_rows, n_cols = random.randint(2,a.shape[0])//random.randint(1,a.shape[0]//2),random.randint(2,a.shape[1])//random.randint(1,a.shape[1]//2)\n",
    "    row = []\n",
    "    col = []\n",
    "#     if n_rows==0:\n",
    "#         n_rows = 1\n",
    "#     if n_cols==0:\n",
    "#         n_cols = 1\n",
    "    while len(row)<n_rows:\n",
    "        x = random.randint(0,a.shape[0]-1)\n",
    "        if x not in row:\n",
    "            row.append(x)\n",
    "    while len(col)<n_cols:\n",
    "        x = random.randint(0,a.shape[1]-1)\n",
    "        if x not in col:\n",
    "            col.append(x)\n",
    "    row.sort()\n",
    "    col.sort()\n",
    "    \n",
    "    A = np.zeros((n_rows,n_cols))\n",
    "    \n",
    "    s = np.sum(a[np.ix_(row,col)],axis=1)\n",
    "    d = np.sum(a[np.ix_(row,col)],axis=0)\n",
    "    \n",
    "    test = []\n",
    "    for i in range(1,len(s)*len(d)+1):\n",
    "        test.append(i)\n",
    "    \n",
    "    while(len(test)!=0):\n",
    "        k = random.choice(test)\n",
    "        i = int(((k-1)/len(d)))\n",
    "        j = ((k-1)%len(d)) \n",
    "        A[i,j] = min(s[i],d[j])\n",
    "        s[i] = s[i] - A[i,j]\n",
    "        d[j] = d[j] - A[i,j]\n",
    "        test.remove(k)           #https://www.programiz.com/python-programming/methods/list/remove\n",
    "    \n",
    "    row_itr = 0\n",
    "    col_itr = 0\n",
    "    for i in row:\n",
    "        for j in col:\n",
    "            a[i,j] = A[row_itr,col_itr]            \n",
    "            col_itr = col_itr+1\n",
    "        row_itr = row_itr+1\n",
    "        col_itr=0\n",
    "    #Mutated offspring\n",
    "    return a"
   ]
  },
  {
   "cell_type": "code",
   "execution_count": 74,
   "metadata": {
    "collapsed": false,
    "scrolled": false
   },
   "outputs": [
    {
     "name": "stdout",
     "output_type": "stream",
     "text": [
      "112.142639641\n",
      "89.404829273\n"
     ]
    }
   ],
   "source": [
    "minval = 3000\n",
    "for i in offsprings:\n",
    "    if minval>np.sum(cost*i):\n",
    "        minval = np.sum(cost*i)\n",
    "mv = 3000\n",
    "for i in offsprings:\n",
    "    i= mutate(i)\n",
    "    if mv>np.sum(cost*i):\n",
    "        mv = np.sum(cost*i)\n",
    "print(minval)\n",
    "print(mv)\n"
   ]
  },
  {
   "cell_type": "code",
   "execution_count": null,
   "metadata": {
    "collapsed": false,
    "deletable": true,
    "editable": true
   },
   "outputs": [],
   "source": []
  }
 ],
 "metadata": {
  "kernelspec": {
   "display_name": "Python 3",
   "language": "python",
   "name": "python3"
  },
  "language_info": {
   "codemirror_mode": {
    "name": "ipython",
    "version": 3
   },
   "file_extension": ".py",
   "mimetype": "text/x-python",
   "name": "python",
   "nbconvert_exporter": "python",
   "pygments_lexer": "ipython3",
   "version": "3.5.2"
  }
 },
 "nbformat": 4,
 "nbformat_minor": 4
}
