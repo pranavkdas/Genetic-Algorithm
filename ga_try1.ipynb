{
 "cells": [
  {
   "cell_type": "code",
   "execution_count": 3,
   "metadata": {
    "collapsed": true,
    "deletable": true,
    "editable": true
   },
   "outputs": [],
   "source": [
    "import numpy as np\n",
    "import random #https://stackoverflow.com/questions/306400/how-to-randomly-select-an-item-from-a-list\n",
    "import math"
   ]
  },
  {
   "cell_type": "code",
   "execution_count": 4,
   "metadata": {
    "collapsed": false,
    "deletable": true,
    "editable": true
   },
   "outputs": [],
   "source": [
    "source = [8,4,12,6]\n",
    "dest = [3,5,10,7,5]\n",
    "supply_coords = [[7., 6.],[2., 7.],[1., 6.],[6., 8.]]\n",
    "demand_coords = [[3., 9.],[4., 6.],[5., 7.],[5., 3.],[2., 9.]]\n",
    " \n",
    "def distance(x1,x2,y1,y2):\n",
    "    return math.sqrt((x1-x2)**2+(y1-y2)**2)\n",
    "\n",
    "#cost function\n",
    "cost = np.zeros((len(source),len(dest)))\n",
    "for i in range(len(source)):\n",
    "    for j in range(len(dest)):\n",
    "        cost[i,j] = distance(supply_coords[i][0],demand_coords[j][0],supply_coords[i][1],demand_coords[j][1])\n",
    "\n",
    "#population number controls how many parents are produced. For now lets keep as 2.        \n",
    "population = 10\n",
    "\n",
    "def bubble_sort(arrx):   \n",
    "    swapped = True\n",
    "    while swapped:\n",
    "        swapped = False\n",
    "        for i in range(len(arrx) - 1):\n",
    "            if arrx[i][0] > arrx[i + 1][0]:\n",
    "                arrx[i], arrx[i + 1] = arrx[i + 1], arrx[i]\n",
    "                swapped = True\n",
    "                \n",
    "#Initialisation\n",
    "pi = []\n",
    "for i in range(1,len(source)*len(dest)+1):\n",
    "    pi.append(i)\n",
    "\n",
    "\n",
    "parents= []\n",
    "\n",
    "for p in range(population):\n",
    "\n",
    "    X = np.zeros((len(source),len(dest)))\n",
    "\n",
    "    s = source.copy()\n",
    "    d = dest.copy()\n",
    "\n",
    "    test = pi.copy()\n",
    "\n",
    "    while(len(test)!=0):\n",
    "        k = random.choice(test)\n",
    "        i = int(((k-1)/len(d)))\n",
    "        j = ((k-1)%len(d)) \n",
    "        X[i,j] = min(s[i],d[j])\n",
    "        s[i] = s[i] - X[i,j]\n",
    "        d[j] = d[j] - X[i,j]\n",
    "        test.remove(k)           #https://www.programiz.com/python-programming/methods/list/remove\n",
    "        \n",
    "    parents.append([np.sum(cost*X),X])\n",
    "    \n",
    "#     if(np.sum(cost*X) < minval):\n",
    "#         minval = np.sum(cost*X)\n",
    "#         answer = np.array(X)\n",
    "\n",
    "#sorts the parent based on their costs\n",
    "bubble_sort(parents)\n",
    "\n",
    "#parents = parents[:len(parents)//2]"
   ]
  },
  {
   "cell_type": "code",
   "execution_count": 5,
   "metadata": {
    "collapsed": true,
    "deletable": true,
    "editable": true
   },
   "outputs": [],
   "source": [
    "def offsprings_maker(p,q):\n",
    "\n",
    "    D = np.zeros((len(source),len(dest)))\n",
    "    R = np.zeros((len(source),len(dest)))\n",
    "\n",
    "    for i in range(len(source)):\n",
    "        for j in range(len(dest)):\n",
    "            D[i,j] = int((p[i,j]+q[i,j])/2)\n",
    "            R[i,j] = (p[i,j]+q[i,j])%2\n",
    "\n",
    "    R1 = np.zeros((len(source),len(dest)))\n",
    "    R2 = np.zeros((len(source),len(dest)))\n",
    "\n",
    "    flag = 0\n",
    "    for i in range(len(source)):\n",
    "        for j in range(len(dest)):\n",
    "            if(R[i,j]==1):\n",
    "                if(flag==0):\n",
    "                    R1[i,j]= 1\n",
    "                    flag = 1\n",
    "                else:\n",
    "                    R2[i,j]= 1\n",
    "                    flag = 0\n",
    "    X1 = D+R1\n",
    "    X2 = D+R2\n",
    "    \n",
    "    return X1,X2\n"
   ]
  },
  {
   "cell_type": "code",
   "execution_count": 6,
   "metadata": {
    "collapsed": false,
    "deletable": true,
    "editable": true
   },
   "outputs": [],
   "source": [
    "offsprings = []\n",
    "copy_parents = parents.copy()\n",
    "while len(copy_parents) > 1 :\n",
    "    p = copy_parents[0]\n",
    "    q = copy_parents[-1]\n",
    "    off1 =[]\n",
    "    off2 = []\n",
    "    a = p[1]\n",
    "    b = q[1]\n",
    "    off1,off2 = offsprings_maker(a,b)\n",
    "    offsprings.append(off1)\n",
    "    offsprings.append(off2)\n",
    "    copy_parents.remove(p)\n",
    "    copy_parents.remove(q) "
   ]
  },
  {
   "cell_type": "code",
   "execution_count": 7,
   "metadata": {
    "collapsed": false,
    "deletable": true,
    "editable": true,
    "scrolled": false
   },
   "outputs": [
    {
     "name": "stdout",
     "output_type": "stream",
     "text": [
      "88.9781766721\n",
      "92.9299773279\n",
      "94.5841805798\n",
      "96.2605051791\n",
      "97.9950525834\n",
      "102.002652837\n",
      "107.355988951\n",
      "111.069244898\n",
      "114.640040848\n",
      "120.016171805\n",
      "a\n",
      "104.487685747\n",
      "104.50666273\n",
      "104.893945586\n",
      "102.67607259\n",
      "102.95268069\n",
      "102.700744788\n",
      "99.2328172692\n",
      "104.383676861\n",
      "101.594521567\n",
      "98.4031838536\n"
     ]
    }
   ],
   "source": [
    "for i in range(len(parents)):\n",
    "    print(parents[i][0])\n",
    "print(\"a\")\n",
    "for i in range(len(offsprings)):\n",
    "    print(np.sum(cost*offsprings[i]))"
   ]
  },
  {
   "cell_type": "code",
   "execution_count": 8,
   "metadata": {
    "collapsed": false,
    "deletable": true,
    "editable": true
   },
   "outputs": [
    {
     "data": {
      "text/plain": [
       "array([[ 0.,  0.,  2.],\n",
       "       [ 0.,  0.,  2.],\n",
       "       [ 2.,  2.,  2.]])"
      ]
     },
     "execution_count": 8,
     "metadata": {},
     "output_type": "execute_result"
    }
   ],
   "source": [
    "copy_offsprings = offsprings.copy()\n",
    "copy_offsprings[0][np.ix_([0,0,3],[0,0,2])]"
   ]
  },
  {
   "cell_type": "code",
   "execution_count": 9,
   "metadata": {
    "collapsed": false,
    "deletable": true,
    "editable": true
   },
   "outputs": [
    {
     "name": "stdout",
     "output_type": "stream",
     "text": [
      "2\n",
      "4\n"
     ]
    }
   ],
   "source": [
    "rand_p=random.randint(2,len(source))\n",
    "rand_q=random.randint(2,len(dest))\n",
    "print(rand_p)\n",
    "print(rand_q)"
   ]
  },
  {
   "cell_type": "code",
   "execution_count": null,
   "metadata": {
    "collapsed": true,
    "deletable": true,
    "editable": true
   },
   "outputs": [],
   "source": []
  }
 ],
 "metadata": {
  "kernelspec": {
   "display_name": "Python 3",
   "language": "python",
   "name": "python3"
  },
  "language_info": {
   "codemirror_mode": {
    "name": "ipython",
    "version": 3
   },
   "file_extension": ".py",
   "mimetype": "text/x-python",
   "name": "python",
   "nbconvert_exporter": "python",
   "pygments_lexer": "ipython3",
   "version": "3.5.2"
  }
 },
 "nbformat": 4,
 "nbformat_minor": 4
}
